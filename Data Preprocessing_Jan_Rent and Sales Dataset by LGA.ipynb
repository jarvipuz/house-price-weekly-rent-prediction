{
 "cells": [
  {
   "cell_type": "code",
   "execution_count": 1,
   "metadata": {},
   "outputs": [],
   "source": [
    "import pandas as pd"
   ]
  },
  {
   "cell_type": "code",
   "execution_count": 2,
   "metadata": {},
   "outputs": [
    {
     "data": {
      "text/html": [
       "<div>\n",
       "<style scoped>\n",
       "    .dataframe tbody tr th:only-of-type {\n",
       "        vertical-align: middle;\n",
       "    }\n",
       "\n",
       "    .dataframe tbody tr th {\n",
       "        vertical-align: top;\n",
       "    }\n",
       "\n",
       "    .dataframe thead th {\n",
       "        text-align: right;\n",
       "    }\n",
       "</style>\n",
       "<table border=\"1\" class=\"dataframe\">\n",
       "  <thead>\n",
       "    <tr style=\"text-align: right;\">\n",
       "      <th></th>\n",
       "      <th>LGA_CODE</th>\n",
       "      <th>LGA_NAME</th>\n",
       "    </tr>\n",
       "  </thead>\n",
       "  <tbody>\n",
       "    <tr>\n",
       "      <th>0</th>\n",
       "      <td>LGA10050</td>\n",
       "      <td>Albury</td>\n",
       "    </tr>\n",
       "    <tr>\n",
       "      <th>1</th>\n",
       "      <td>LGA10130</td>\n",
       "      <td>Armidale Regional</td>\n",
       "    </tr>\n",
       "    <tr>\n",
       "      <th>2</th>\n",
       "      <td>LGA10250</td>\n",
       "      <td>Ballina</td>\n",
       "    </tr>\n",
       "    <tr>\n",
       "      <th>3</th>\n",
       "      <td>LGA10300</td>\n",
       "      <td>Balranald</td>\n",
       "    </tr>\n",
       "    <tr>\n",
       "      <th>4</th>\n",
       "      <td>LGA10470</td>\n",
       "      <td>Bathurst Regional</td>\n",
       "    </tr>\n",
       "  </tbody>\n",
       "</table>\n",
       "</div>"
      ],
      "text/plain": [
       "   LGA_CODE           LGA_NAME\n",
       "0  LGA10050             Albury\n",
       "1  LGA10130  Armidale Regional\n",
       "2  LGA10250            Ballina\n",
       "3  LGA10300          Balranald\n",
       "4  LGA10470  Bathurst Regional"
      ]
     },
     "execution_count": 2,
     "metadata": {},
     "output_type": "execute_result"
    }
   ],
   "source": [
    "lga_codes = pd.read_csv('Data/lga_code_and_names.csv')\n",
    "lga_codes.head()"
   ]
  },
  {
   "cell_type": "code",
   "execution_count": 3,
   "metadata": {},
   "outputs": [],
   "source": [
    "def export_rent(inpath_rent, outname_rent, detail = 'overall'):\n",
    "    rent = pd.read_excel(inpath_rent, sheet_name = 1)\n",
    "    rent = rent.drop(rent.index[0:2])\n",
    "    rent.columns = rent.iloc[0]\n",
    "    rent = rent.drop(rent.index[0])\n",
    "    rent = rent.drop(['Quarterly change in Median Weekly Rent', 'Annual change in Median Weekly Rent',\n",
    "                          'Quarterly change in New Bonds Lodged', 'Annual change in New Bonds Lodged'], axis = 1)\n",
    "    cols = ['gmr', 'gs', 'rings', 'lga', 'dwelling_type', 'bedroom_no', 'weekly_rent_q1', 'weekly_rent_median',\n",
    "            'weekly_rent_q3', 'new_bonds', 'total_bonds']\n",
    "    rent.columns = cols\n",
    "    rent = rent[(rent.gmr == 'Total') & (rent.gs == 'Total') & (rent.rings == 'Total') & (rent.lga != 'Total')]\n",
    "    rent = rent.replace('-', '')\n",
    "    if detail == 'dwelling':\n",
    "        rent_by_detail = rent[(rent.dwelling_type != 'Total') & (rent.bedroom_no == 'Total')]\n",
    "        rent_by_detail = rent_by_detail[['lga', 'dwelling_type', 'weekly_rent_median']]\n",
    "        rent_by_detail.weekly_rent_median = pd.to_numeric(rent_by_detail.weekly_rent_median)\n",
    "        rent_by_detail = pd.pivot_table(rent_by_detail, index = 'lga', columns = 'dwelling_type',\n",
    "                                        values = 'weekly_rent_median')\n",
    "        rent_by_detail = rent_by_detail.reset_index()\n",
    "        rent_by_detail.columns = ['LGA_NAME', 'flat', 'house', 'other', 'townhouse']\n",
    "        rent_by_detail = rent_by_detail.fillna(0)\n",
    "    elif detail == 'bedroom':\n",
    "        rent_by_detail = rent[(rent.dwelling_type == 'Total') & (rent.bedroom_no != 'Total')]\n",
    "        rent_by_detail = rent_by_detail[['lga', 'bedroom_no', 'weekly_rent_median']]\n",
    "        rent_by_detail.weekly_rent_median = pd.to_numeric(rent_by_detail.weekly_rent_median)\n",
    "        rent_by_detail = pd.pivot_table(rent_by_detail, index = 'lga', columns = 'bedroom_no',\n",
    "                                        values = 'weekly_rent_median')\n",
    "        rent_by_detail = rent_by_detail.reset_index()\n",
    "        rent_by_detail.columns = ['LGA_NAME', 'one_br', 'two_br', 'three_br', 'four_or_more_br', 'bedsitter',\n",
    "                                  'not_specified']\n",
    "        rent_by_detail = rent_by_detail.fillna(0)\n",
    "    else:\n",
    "        rent_by_detail = rent[(rent.dwelling_type == 'Total') & (rent.bedroom_no == 'Total')]\n",
    "        rent_by_detail = rent_by_detail[['lga', 'weekly_rent_median']]\n",
    "        rent_by_detail.weekly_rent_median = pd.to_numeric(rent_by_detail.weekly_rent_median)\n",
    "        rent_by_detail.columns = ['LGA_NAME', 'weekly_rent_median']\n",
    "        rent_by_detail = rent_by_detail.fillna(0)\n",
    "    rent_final = lga_codes.merge(rent_by_detail, on = 'LGA_NAME', how = 'inner')\n",
    "    rent_final.to_csv(outname_rent, index = False)"
   ]
  },
  {
   "cell_type": "code",
   "execution_count": 4,
   "metadata": {
    "scrolled": true
   },
   "outputs": [],
   "source": [
    "export_rent('Data/house_rent_sales/Rent-Tables-Jun-Quarter-2019.xlsx',\n",
    "            'Data/house_rent_sales/house_rent_0619_overall.csv')\n",
    "export_rent('Data/house_rent_sales/Rent-Tables-Jun-Quarter-2019.xlsx',\n",
    "            'Data/house_rent_sales/house_rent_0619_dwelling.csv', detail = 'dwelling')\n",
    "export_rent('Data/house_rent_sales/Rent-Tables-Jun-Quarter-2019.xlsx',\n",
    "            'Data/house_rent_sales/house_rent_0619_bedroom.csv', detail = 'bedroom')"
   ]
  },
  {
   "cell_type": "code",
   "execution_count": 5,
   "metadata": {},
   "outputs": [],
   "source": [
    "export_rent('Data/house_rent_sales/Rent-Tables-Sep-Quarter-2017.xlsx',\n",
    "            'Data/house_rent_sales/house_rent_0917_overall.csv')\n",
    "export_rent('Data/house_rent_sales/Rent-Tables-Sep-Quarter-2017.xlsx',\n",
    "            'Data/house_rent_sales/house_rent_0917_dwelling.csv', detail = 'dwelling')\n",
    "export_rent('Data/house_rent_sales/Rent-Tables-Sep-Quarter-2017.xlsx',\n",
    "            'Data/house_rent_sales/house_rent_0917_bedroom.csv', detail = 'bedroom')"
   ]
  },
  {
   "cell_type": "code",
   "execution_count": 6,
   "metadata": {},
   "outputs": [],
   "source": [
    "def export_sales(inpath_sales, outname_sales, stat = 'mean', house_type = False):\n",
    "    sales = pd.read_excel(inpath_sales, sheet_name = 1)\n",
    "    sales = sales.drop(sales.index[0:3])\n",
    "    sales.columns = sales.iloc[0]\n",
    "    sales = sales.drop(sales.index[0])\n",
    "    sales = sales.drop(['Qtly change in Median', 'Annual change in Median', 'Qtly change in Count',\n",
    "                        'Annual change in Count'], axis = 1)\n",
    "    cols = ['gmr', 'gs', 'rings', 'lga', 'dwelling_type', 'sales_q1', 'median', 'sales_q3', 'mean',\n",
    "            'sales_count']\n",
    "    sales.columns = cols\n",
    "    sales = sales[(sales.gmr == 'Total') & (sales.gs == 'Total') & (sales.rings == 'Total') & (sales.lga != 'Total')]\n",
    "    sales = sales[['lga', 'dwelling_type', stat]]\n",
    "    if house_type:\n",
    "        sales_by_detail = sales[(sales.dwelling_type != 'Total')]\n",
    "        sales_by_detail[stat] = sales_by_detail[stat].replace('-', 0)\n",
    "        sales_by_detail[stat] = pd.to_numeric(sales_by_detail[stat])\n",
    "        sales_by_detail = pd.pivot_table(sales_by_detail, index = 'lga', columns = 'dwelling_type', values = stat)\n",
    "        sales_by_detail = sales_by_detail.reset_index()\n",
    "        sales_by_detail.columns = ['lga', 'nonstrata', 'strata']\n",
    "        sales_by_detail = sales_by_detail.fillna(0)\n",
    "        sales_by_detail.columns = ['LGA_NAME', stat + '_nonstrata', stat + '_strata']\n",
    "    else:\n",
    "        sales_by_detail = sales[(sales.dwelling_type == 'Total')]\n",
    "        sales_by_detail = sales_by_detail[['lga', stat]]\n",
    "        sales_by_detail[stat] = sales[stat].replace('-', 0)\n",
    "        sales_by_detail[stat] = pd.to_numeric(sales_by_detail[stat])\n",
    "        sales_by_detail = sales_by_detail.fillna(0)\n",
    "        sales_by_detail.columns = ['LGA_NAME', stat + '_sales']\n",
    "    sales_final = lga_codes.merge(sales_by_detail, on = 'LGA_NAME', how = 'inner')\n",
    "    sales_final.to_csv(outname_sales, index = False)"
   ]
  },
  {
   "cell_type": "code",
   "execution_count": 6,
   "metadata": {
    "scrolled": true
   },
   "outputs": [
    {
     "name": "stderr",
     "output_type": "stream",
     "text": [
      "/Users/jvlpz/anaconda3/lib/python3.7/site-packages/ipykernel_launcher.py:15: SettingWithCopyWarning: \n",
      "A value is trying to be set on a copy of a slice from a DataFrame.\n",
      "Try using .loc[row_indexer,col_indexer] = value instead\n",
      "\n",
      "See the caveats in the documentation: http://pandas.pydata.org/pandas-docs/stable/indexing.html#indexing-view-versus-copy\n",
      "  from ipykernel import kernelapp as app\n",
      "/Users/jvlpz/anaconda3/lib/python3.7/site-packages/ipykernel_launcher.py:16: SettingWithCopyWarning: \n",
      "A value is trying to be set on a copy of a slice from a DataFrame.\n",
      "Try using .loc[row_indexer,col_indexer] = value instead\n",
      "\n",
      "See the caveats in the documentation: http://pandas.pydata.org/pandas-docs/stable/indexing.html#indexing-view-versus-copy\n",
      "  app.launch_new_instance()\n"
     ]
    }
   ],
   "source": [
    "export_sales('Data/house_rent_sales/Sales-Tables-Mar-Quarter-2019.xlsx',\n",
    "             'Data/house_rent_sales/house_sales_0319_overall_mean.csv')\n",
    "export_sales('Data/house_rent_sales/Sales-Tables-Mar-Quarter-2019.xlsx',\n",
    "             'Data/house_rent_sales/house_sales_0319_overall_median.csv', stat = 'median')\n",
    "export_sales('Data/house_rent_sales/Sales-Tables-Mar-Quarter-2019.xlsx',\n",
    "             'Data/house_rent_sales/house_sales_0319_dwelling_mean.csv', house_type = True)\n",
    "export_sales('Data/house_rent_sales/Sales-Tables-Mar-Quarter-2019.xlsx',\n",
    "             'Data/house_rent_sales/house_sales_0319_dwelling_median.csv', stat = 'median', house_type = True)"
   ]
  },
  {
   "cell_type": "code",
   "execution_count": 7,
   "metadata": {},
   "outputs": [
    {
     "name": "stderr",
     "output_type": "stream",
     "text": [
      "/Users/jvlpz/anaconda3/lib/python3.7/site-packages/ipykernel_launcher.py:15: SettingWithCopyWarning: \n",
      "A value is trying to be set on a copy of a slice from a DataFrame.\n",
      "Try using .loc[row_indexer,col_indexer] = value instead\n",
      "\n",
      "See the caveats in the documentation: http://pandas.pydata.org/pandas-docs/stable/indexing.html#indexing-view-versus-copy\n",
      "  from ipykernel import kernelapp as app\n",
      "/Users/jvlpz/anaconda3/lib/python3.7/site-packages/ipykernel_launcher.py:16: SettingWithCopyWarning: \n",
      "A value is trying to be set on a copy of a slice from a DataFrame.\n",
      "Try using .loc[row_indexer,col_indexer] = value instead\n",
      "\n",
      "See the caveats in the documentation: http://pandas.pydata.org/pandas-docs/stable/indexing.html#indexing-view-versus-copy\n",
      "  app.launch_new_instance()\n"
     ]
    }
   ],
   "source": [
    "export_sales('Data/house_rent_sales/Sales-Tables-Jun-Quarter-2017.xlsx',\n",
    "             'Data/house_rent_sales/house_sales_0617_overall_mean.csv')\n",
    "export_sales('Data/house_rent_sales/Sales-Tables-Jun-Quarter-2017.xlsx',\n",
    "             'Data/house_rent_sales/house_sales_0617_overall_median.csv', stat = 'median')\n",
    "export_sales('Data/house_rent_sales/Sales-Tables-Jun-Quarter-2017.xlsx',\n",
    "             'Data/house_rent_sales/house_sales_0617_dwelling_mean.csv', house_type = True)\n",
    "export_sales('Data/house_rent_sales/Sales-Tables-Jun-Quarter-2017.xlsx',\n",
    "             'Data/house_rent_sales/house_sales_0617_dwelling_median.csv', stat = 'median', house_type = True)"
   ]
  },
  {
   "cell_type": "code",
   "execution_count": null,
   "metadata": {},
   "outputs": [],
   "source": []
  }
 ],
 "metadata": {
  "kernelspec": {
   "display_name": "Python 3",
   "language": "python",
   "name": "python3"
  },
  "language_info": {
   "codemirror_mode": {
    "name": "ipython",
    "version": 3
   },
   "file_extension": ".py",
   "mimetype": "text/x-python",
   "name": "python",
   "nbconvert_exporter": "python",
   "pygments_lexer": "ipython3",
   "version": "3.7.3"
  }
 },
 "nbformat": 4,
 "nbformat_minor": 2
}
