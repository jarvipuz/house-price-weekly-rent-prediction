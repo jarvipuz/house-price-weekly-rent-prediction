{
 "cells": [
  {
   "cell_type": "code",
   "execution_count": 1,
   "metadata": {},
   "outputs": [],
   "source": [
    "import pandas as pd\n",
    "import numpy as np\n",
    "import matplotlib.pylab as plt\n",
    "%matplotlib inline\n",
    "import seaborn as sns\n",
    "\n",
    "from sklearn.tree import DecisionTreeRegressor\n",
    "from sklearn.model_selection import train_test_split\n",
    "\n",
    "from sklearn.model_selection import GridSearchCV\n",
    "\n",
    "\n",
    "from sklearn.metrics import mean_squared_error, make_scorer\n",
    "from sklearn.metrics import r2_score\n",
    "from sklearn.model_selection import cross_val_score\n",
    "\n"
   ]
  },
  {
   "cell_type": "markdown",
   "metadata": {},
   "source": [
    "## Load and sales 2017 data"
   ]
  },
  {
   "cell_type": "code",
   "execution_count": 2,
   "metadata": {},
   "outputs": [
    {
     "name": "stdout",
     "output_type": "stream",
     "text": [
      "shape of final df:  (113, 124)\n"
     ]
    }
   ],
   "source": [
    "#load and clean data\n",
    "final17 = pd.read_csv(\"Data/final17_dataset.csv\")\n",
    "\n",
    "nationality_col = ['P_Afghanistan_Tot','P_Australia_Tot','P_Bangladesh_Tot','P_Bosnia_Herzegov_Tot','P_Cambodia_Tot','P_Canada_Tot','P_Chile_Tot','P_China_Tot','P_Croatia_Tot','P_Egypt_Tot','P_England_Tot','P_Fiji_Tot','P_France_Tot','P_Germany_Tot','P_Greece_Tot','P_Hong_Kong_Tot',\n",
    " 'P_India_Tot','P_Indonesia_Tot','P_Iran_Tot','P_Iraq_Tot','P_Ireland_Tot','P_Italy_Tot','P_Japan_Tot','P_Korea_South_Tot','P_Lebanon_Tot','P_Malaysia_Tot','P_Malta_Tot','P_Mauritius_Tot','P_Myanmar_Tot','P_Nepal_Tot','P_Netherlands_Tot','P_New_Zealand_Tot',\n",
    " 'P_Nthern_Ireland_Tot','P_Pakistan_Tot','P_PNG_Tot','P_Philippines_Tot','P_Poland_Tot','P_Scotland_Tot','P_Singapore_Tot','P_South_Africa_Tot','P_SE_Europe_nfd_Tot','P_Sri_Lanka_Tot','P_Taiwan_Tot','P_Thailand_Tot','P_FYROM_Tot',\n",
    " 'P_Turkey_Tot','P_USA_Tot','P_Vietnam_Tot','P_Wales_Tot','P_Zimbabwe_Tot','P_Elsewhere_Tot']\n",
    "\n",
    "col_rename = {'Age_below_15_yr_perc':'pct_age_14below', 'Age_15_64_yr_perc' : 'pct_age_15_64',\n",
    "              'Age_over_65_yr_perc' : 'pct_age_65above', 'BP_Aus_Perc' : 'pct_birthplace_au',\n",
    "              'BP_Non_Aus_Perc' : 'pct_birthplace_non_au', 'SE_Yr10_above_Perc' : 'pct_educ_yr10above',\n",
    "              'SE_Yr9_below_Perc' : 'pct_educ_yr9below', 'MS_Married_Perc' : 'pct_married',\n",
    "              'MS_Single_Perc' : 'pct_single', 'Percent_Unem_loyment_P' : 'unemployment_rate',\n",
    "              'Percnt_LabForc_prticipation_P' : 'lfpr', 'Percnt_Employment_to_populn_P' : 'employment_rate', \n",
    "              'Median_age_persons' : 'median_age', 'Median_tot_prsnl_inc_weekly' : 'median_weekly_pincome',\n",
    "              'Median_tot_fam_inc_weekly' : 'median_weekly_fincome',\n",
    "              'Median_tot_hhd_inc_weekly' : 'median_weekly_hincome', 'Average_household_size' : 'ave_hhsize'}\n",
    "\n",
    "final17_c = final17.fillna(0)\n",
    "final17_c = final17_c.drop(nationality_col, axis=1)\n",
    "final17_c = final17_c.rename(columns = col_rename)\n",
    "\n",
    "final17_c['ntl17_mean_per_land_area'] = final17_c.ntl17_sum / final17_c.land_area\n",
    "final17_c['bstop_per_land_area'] = final17_c.bus_stop / final17_c.land_area\n",
    "final17_c['tstation_per_land_area'] = final17_c.train_station / final17_c.land_area\n",
    "final17_c['transpo_per_land_area'] = final17_c.all_transpo / final17_c.land_area\n",
    "\n",
    "final17_c = final17_c[final17_c.s_median_sales>0]\n",
    "print(\"shape of final df: \", final17_c.shape)"
   ]
  },
  {
   "cell_type": "code",
   "execution_count": 3,
   "metadata": {},
   "outputs": [],
   "source": [
    "sales17_col = ['s_mean_nonstrata','s_mean_strata','s_median_nonstrata','s_median_strata','s_mean_sales','s_median_sales']\n",
    "sales17=final17_c[sales17_col]\n",
    "\n",
    "rent17_col = ['r_one_br','r_two_br','r_three_br','r_four_or_more_br',\n",
    " 'r_bedsitter','r_not_specified','r_flat','r_house','r_other','r_townhouse','r_weekly_rent_median']\n",
    "\n",
    "sales17 = final17_c[sales17_col]"
   ]
  },
  {
   "cell_type": "code",
   "execution_count": 4,
   "metadata": {},
   "outputs": [
    {
     "name": "stdout",
     "output_type": "stream",
     "text": [
      "shape of sales df:  (113, 6)\n"
     ]
    }
   ],
   "source": [
    "print(\"shape of sales df: \",sales17.shape)"
   ]
  },
  {
   "cell_type": "code",
   "execution_count": 5,
   "metadata": {},
   "outputs": [
    {
     "data": {
      "text/html": [
       "<div>\n",
       "<style scoped>\n",
       "    .dataframe tbody tr th:only-of-type {\n",
       "        vertical-align: middle;\n",
       "    }\n",
       "\n",
       "    .dataframe tbody tr th {\n",
       "        vertical-align: top;\n",
       "    }\n",
       "\n",
       "    .dataframe thead th {\n",
       "        text-align: right;\n",
       "    }\n",
       "</style>\n",
       "<table border=\"1\" class=\"dataframe\">\n",
       "  <thead>\n",
       "    <tr style=\"text-align: right;\">\n",
       "      <th></th>\n",
       "      <th>s_mean_nonstrata</th>\n",
       "      <th>s_mean_strata</th>\n",
       "      <th>s_median_nonstrata</th>\n",
       "      <th>s_median_strata</th>\n",
       "      <th>s_mean_sales</th>\n",
       "      <th>s_median_sales</th>\n",
       "    </tr>\n",
       "  </thead>\n",
       "  <tbody>\n",
       "    <tr>\n",
       "      <th>0</th>\n",
       "      <td>350.72904</td>\n",
       "      <td>197.23513</td>\n",
       "      <td>320.0</td>\n",
       "      <td>206.0</td>\n",
       "      <td>320.42552</td>\n",
       "      <td>290.0</td>\n",
       "    </tr>\n",
       "    <tr>\n",
       "      <th>1</th>\n",
       "      <td>372.99474</td>\n",
       "      <td>0.00000</td>\n",
       "      <td>352.5</td>\n",
       "      <td>0.0</td>\n",
       "      <td>361.56796</td>\n",
       "      <td>345.0</td>\n",
       "    </tr>\n",
       "    <tr>\n",
       "      <th>2</th>\n",
       "      <td>695.14002</td>\n",
       "      <td>463.46875</td>\n",
       "      <td>639.5</td>\n",
       "      <td>424.0</td>\n",
       "      <td>616.27321</td>\n",
       "      <td>587.5</td>\n",
       "    </tr>\n",
       "    <tr>\n",
       "      <th>4</th>\n",
       "      <td>436.94776</td>\n",
       "      <td>293.44444</td>\n",
       "      <td>417.0</td>\n",
       "      <td>280.0</td>\n",
       "      <td>426.22967</td>\n",
       "      <td>405.0</td>\n",
       "    </tr>\n",
       "    <tr>\n",
       "      <th>5</th>\n",
       "      <td>480.04897</td>\n",
       "      <td>292.83431</td>\n",
       "      <td>460.0</td>\n",
       "      <td>285.0</td>\n",
       "      <td>431.58223</td>\n",
       "      <td>420.0</td>\n",
       "    </tr>\n",
       "  </tbody>\n",
       "</table>\n",
       "</div>"
      ],
      "text/plain": [
       "   s_mean_nonstrata  s_mean_strata  s_median_nonstrata  s_median_strata  \\\n",
       "0         350.72904      197.23513               320.0            206.0   \n",
       "1         372.99474        0.00000               352.5              0.0   \n",
       "2         695.14002      463.46875               639.5            424.0   \n",
       "4         436.94776      293.44444               417.0            280.0   \n",
       "5         480.04897      292.83431               460.0            285.0   \n",
       "\n",
       "   s_mean_sales  s_median_sales  \n",
       "0     320.42552           290.0  \n",
       "1     361.56796           345.0  \n",
       "2     616.27321           587.5  \n",
       "4     426.22967           405.0  \n",
       "5     431.58223           420.0  "
      ]
     },
     "execution_count": 5,
     "metadata": {},
     "output_type": "execute_result"
    }
   ],
   "source": [
    "sales17.head()"
   ]
  },
  {
   "cell_type": "code",
   "execution_count": 6,
   "metadata": {},
   "outputs": [],
   "source": [
    "lga_id = ['LGA_CODE', 'LGA_NAME']\n",
    "\n",
    "X_ntl = ['land_area', 'ntl17_mean', 'ntl17_mean_per_land_area']\n",
    "X_transpo_bus = ['bus_stop', 'bstop_per_land_area']\n",
    "X_transpo_train = ['train_station', 'tstation_per_land_area']\n",
    "X_transpo_all = ['all_transpo', 'transpo_per_land_area']\n",
    "X_census_age = ['pct_age_14below', 'pct_age_15_64', 'pct_age_65above']\n",
    "X_census_origin = ['pct_birthplace_au', 'pct_birthplace_non_au']\n",
    "X_census_educ = ['pct_educ_yr10above', 'pct_educ_yr9below']\n",
    "X_census_marital_stat = ['pct_married', 'pct_single']\n",
    "X_census_employment = ['unemployment_rate', 'lfpr', 'employment_rate']\n",
    "X_census_educ_qual = ['pct_pgrad', 'pct_grad_cert_dip', 'pct_bach_deg', 'pct_adv_dip', 'pct_cert_iii_iv',\n",
    "                      'pct_cert_i_ii', 'pct_others']\n",
    "X_census_stats = ['median_age', 'median_weekly_pincome', 'median_weekly_fincome', 'median_weekly_hincome',\n",
    "                  'ave_hhsize']\n",
    "\n",
    "X_transpo_bus_col= ['bstop_per_land_area']\n",
    "X_transpo_train_col= ['tstation_per_land_area']\n",
    "X_transpo_all_col = ['transpo_per_land_area']\n",
    "X_ntl_col = ['ntl17_mean_per_land_area']\n",
    "X_census_col = X_census_age+X_census_origin+X_census_origin+X_census_educ+X_census_marital_stat+X_census_employment+X_census_educ_qual+X_census_stats\n",
    "\n",
    "X_all_col = X_ntl_col+X_transpo_all_col+X_census_age+X_census_origin+X_census_educ+X_census_marital_stat+X_census_employment+X_census_educ_qual+X_census_stats\n",
    "X_all_excl_train_col = X_ntl_col+X_transpo_bus_col+X_census_age+X_census_origin+X_census_educ+X_census_marital_stat+X_census_employment+X_census_educ_qual+X_census_stats\n"
   ]
  },
  {
   "cell_type": "markdown",
   "metadata": {},
   "source": [
    "# Predict house sales median"
   ]
  },
  {
   "cell_type": "markdown",
   "metadata": {},
   "source": [
    "## Using all variables"
   ]
  },
  {
   "cell_type": "markdown",
   "metadata": {},
   "source": [
    "#### Choose and split data"
   ]
  },
  {
   "cell_type": "code",
   "execution_count": 7,
   "metadata": {},
   "outputs": [],
   "source": [
    "X = final17_c[X_all_col]\n",
    "y = sales17['s_median_sales']"
   ]
  },
  {
   "cell_type": "code",
   "execution_count": 8,
   "metadata": {},
   "outputs": [
    {
     "name": "stdout",
     "output_type": "stream",
     "text": [
      "shape of X:  (113, 26)\n",
      "shape of y:  (113,)\n"
     ]
    }
   ],
   "source": [
    "print(\"shape of X: \", X.shape)\n",
    "print(\"shape of y: \", y.shape)"
   ]
  },
  {
   "cell_type": "code",
   "execution_count": 9,
   "metadata": {},
   "outputs": [
    {
     "name": "stdout",
     "output_type": "stream",
     "text": [
      "shape of X_train:  (84, 26)\n",
      "shape of y_train:  (84,)\n",
      "shape of X_test:  (29, 26)\n",
      "shape of y_test:  (29,)\n"
     ]
    }
   ],
   "source": [
    "# 75% split\n",
    "X_train, X_test, y_train, y_test = train_test_split(X, y, random_state = 42)\n",
    "\n",
    "\n",
    "print(\"shape of X_train: \", X_train.shape)\n",
    "print(\"shape of y_train: \", y_train.shape)\n",
    "print(\"shape of X_test: \", X_test.shape)\n",
    "print(\"shape of y_test: \", y_test.shape)\n"
   ]
  },
  {
   "cell_type": "markdown",
   "metadata": {},
   "source": [
    "#### Use cross validation to find best max depth"
   ]
  },
  {
   "cell_type": "code",
   "execution_count": 10,
   "metadata": {},
   "outputs": [
    {
     "name": "stdout",
     "output_type": "stream",
     "text": [
      "best max depth para is:  {'max_depth': 4}\n",
      "R2 =  0.676867889842009\n"
     ]
    },
    {
     "name": "stderr",
     "output_type": "stream",
     "text": [
      "/usr/local/lib/python3.7/site-packages/sklearn/model_selection/_search.py:814: DeprecationWarning: The default of the `iid` parameter will change from True to False in version 0.22 and will be removed in 0.24. This will change numeric results when test-set sizes are unequal.\n",
      "  DeprecationWarning)\n"
     ]
    }
   ],
   "source": [
    "# best depth\n",
    "dtr = DecisionTreeRegressor(random_state = 42)\n",
    "param_grid = {'max_depth':np.arange(1,50)}\n",
    "dtr_grid_cv = GridSearchCV(dtr, param_grid, cv = 10, scoring = 'r2')\n",
    "dtr_grid_cv.fit(X_train, y_train)\n",
    "print(\"best max depth para is: \", dtr_grid_cv.best_params_)\n",
    "print(\"R2 = \", dtr_grid_cv.best_score_)"
   ]
  },
  {
   "cell_type": "markdown",
   "metadata": {},
   "source": [
    "**-> Based on cross validataion result, best max_depth parameter for the regression is 4**"
   ]
  },
  {
   "cell_type": "markdown",
   "metadata": {},
   "source": [
    "#### Scoring"
   ]
  },
  {
   "cell_type": "code",
   "execution_count": 31,
   "metadata": {},
   "outputs": [
    {
     "name": "stdout",
     "output_type": "stream",
     "text": [
      "rmse train data of max_depth=4:  64.42356810713441\n",
      "r2 train data of max_depth=4:  0.9731620214811663\n",
      "rmse test data of max_depth=4:  334.5812889135171\n",
      "r2 test data of max_depth=4:  0.6614049692429425\n"
     ]
    }
   ],
   "source": [
    "dtr_d10 = DecisionTreeRegressor(max_depth=4, random_state=42)\n",
    "\n",
    "dtr_d10.fit(X_train,y_train)\n",
    "\n",
    "y_pre_d10_train = dtr_d10.predict(X_train)\n",
    "y_pre_d10_test = dtr_d10.predict(X_test)\n",
    "\n",
    "rmse_train = np.sqrt(mean_squared_error(y_train,y_pre_d10_train))\n",
    "rsq_train = r2_score(y_train,y_pre_d10_train)\n",
    "#adj_rsq_train = 1 - (1 - rsq_train) * (len(y_train) - 1) / (len(y_train) - X_train.shape[1] - 1)\n",
    "\n",
    "rmse_test = np.sqrt(mean_squared_error(y_test,y_pre_d10_test))\n",
    "rsq_test = r2_score(y_test,y_pre_d10_test)\n",
    "#adj_rsq_test = 1 - (1 - rsq_test) * (len(y_test) - 1) / (len(y_test) - X_test.shape[1] - 1)\n",
    "\n",
    "\n",
    "print(\"rmse train data of max_depth=4: \", rmse_train)\n",
    "print(\"r2 train data of max_depth=4: \", rsq_train)\n",
    "#print(\"adjusted r2 train data of max_depth = 10: \", adj_rsq_train)\n",
    "\n",
    "print(\"rmse test data of max_depth=4: \", rmse_test)\n",
    "print(\"r2 test data of max_depth=4: \", rsq_test)\n",
    "#print(\"adjusted r2 test data of max_depth = 10: \", adj_rsq_test)\n"
   ]
  },
  {
   "cell_type": "markdown",
   "metadata": {},
   "source": [
    "## Defining functions for using other variables"
   ]
  },
  {
   "cell_type": "markdown",
   "metadata": {},
   "source": [
    "Other grouped variables will be tested using same process above with bellowed functions"
   ]
  },
  {
   "cell_type": "code",
   "execution_count": 12,
   "metadata": {},
   "outputs": [],
   "source": [
    "def load_data(X,y):\n",
    "    #print(\"shape of X: \", X.shape)\n",
    "    #print(\"shape of y: \", y.shape)\n",
    "    \n",
    "    X_train, X_test, y_train, y_test = train_test_split(X, y, random_state = 42)\n",
    "    #print(\"shape of X_train: \", X_train.shape)\n",
    "    #print(\"shape of y_train: \", y_train.shape)\n",
    "    #print(\"shape of X_test: \", X_test.shape)\n",
    "    #print(\"shape of y_test: \", y_test.shape)\n",
    "    \n",
    "    return X_train, y_train, X_test, y_test\n",
    "\n",
    "def dtr_best_depth(X_train, y_train):\n",
    "\n",
    "    # best depth\n",
    "    dtr = DecisionTreeRegressor(random_state = 42)\n",
    "    param_grid = {'max_depth':np.arange(1,50)}\n",
    "    dtr_grid_cv = GridSearchCV(dtr, param_grid, cv = 10, scoring = 'r2')\n",
    "    dtr_grid_cv.fit(X_train, y_train)\n",
    "    best_depth = dtr_grid_cv.best_params_\n",
    "    best_score = dtr_grid_cv.best_score_\n",
    "    \n",
    "    #print(\"best max depth para is: \", dtr_grid_cv.best_params_)\n",
    "    #print(\"R2 from CV = \", dtr_grid_cv.best_score_)\n",
    "\n",
    "    return best_depth, best_score\n",
    "\n",
    "def scoring(max_depth, X_train, y_train, X_test, y_test):\n",
    "    dtr = DecisionTreeRegressor(max_depth = max_depth, random_state=42)\n",
    "    dtr.fit(X_train, y_train)\n",
    "    y_pre_train = dtr.predict(X_train)\n",
    "    y_pre_test = dtr.predict(X_test)\n",
    "    \n",
    "    #print(\"rmse of {}: \".format(max_depth), np.sqrt(mean_squared_error(y_test,y_pre)))\n",
    "    #print(\"r2 of {}: \".format(max_depth), r2_score(y_test,y_pre))\n",
    "    \n",
    "    rmse_train = np.sqrt(mean_squared_error(y_train,y_pre_train))\n",
    "    rsq_train = r2_score(y_train,y_pre_train)\n",
    "    adj_rsq_train = 1 - (1 - rsq_train) * (len(y_train) - 1) / (len(y_train) - X_train.shape[1] - 1)\n",
    "    \n",
    "    rmse_test = np.sqrt(mean_squared_error(y_test,y_pre_test))\n",
    "    rsq_test = r2_score(y_test,y_pre_test)\n",
    "    adj_rsq_test = 1 - (1 - rsq_test) * (len(y_test) - 1) / (len(y_test) - X_test.shape[1] - 1)\n",
    "    \n",
    "    return rmse_train, rsq_train, adj_rsq_train, rmse_test, rsq_test, adj_rsq_test\n",
    "    \n",
    "    \n",
    "    \n",
    "def dtr_assess(X, y):\n",
    "    \n",
    "    data = load_data(X, y)\n",
    "    best_depth = dtr_best_depth(data[0], data[1])\n",
    "    scores = scoring(best_depth[0]['max_depth'],data[0], data[1], data[2], data[3])\n",
    "    \n",
    "    print(\"shape of X: \", X.shape)\n",
    "    print(\"shape of y: \", y.shape)\n",
    "    \n",
    "    print(\"shape of X_train: \", data[0].shape)\n",
    "    print(\"shape of y_train: \", data[1].shape)\n",
    "    print(\"shape of X_test: \", data[2].shape)\n",
    "    print(\"shape of y_test: \", data[3].shape)               \n",
    "\n",
    "    print(\"best max depth para is: \", best_depth[0])\n",
    "    print(\"R2 from CV: \", best_depth[1])\n",
    "    \n",
    "    print(\"rmse train data of max_depth = {}: \".format(best_depth[0]['max_depth']), scores[0])\n",
    "    print(\"r2 train data of max_depth = {}: \".format(best_depth[0]['max_depth']), scores[1]) \n",
    "    #print(\"adjusted r2 train data of max_depth = {}: \".format(best_depth[0]['max_depth']), scores[2])\n",
    "    \n",
    "    print(\"rmse test data of max_depth = {}: \".format(best_depth[0]['max_depth']), scores[3])\n",
    "    print(\"r2 test data of max_depth = {}: \".format(best_depth[0]['max_depth']), scores[4])      \n",
    "    #print(\"adjusted r2 test data of max_depth = {}: \".format(best_depth[0]['max_depth']), scores[5])            \n",
    "                                  "
   ]
  },
  {
   "cell_type": "markdown",
   "metadata": {},
   "source": [
    "## Using census variables"
   ]
  },
  {
   "cell_type": "code",
   "execution_count": 13,
   "metadata": {
    "scrolled": true
   },
   "outputs": [
    {
     "name": "stdout",
     "output_type": "stream",
     "text": [
      "shape of X:  (113, 26)\n",
      "shape of y:  (113,)\n",
      "shape of X_train:  (84, 26)\n",
      "shape of y_train:  (84,)\n",
      "shape of X_test:  (29, 26)\n",
      "shape of y_test:  (29,)\n",
      "best max depth para is:  {'max_depth': 6}\n",
      "R2 from CV:  0.6606560326632243\n",
      "rmse train data of max_depth = 6:  28.41030549566396\n",
      "r2 train data of max_depth = 6:  0.9947807024181088\n",
      "rmse test data of max_depth = 6:  261.638066353022\n",
      "r2 test data of max_depth = 6:  0.7929481372766466\n"
     ]
    },
    {
     "name": "stderr",
     "output_type": "stream",
     "text": [
      "/usr/local/lib/python3.7/site-packages/sklearn/model_selection/_search.py:814: DeprecationWarning: The default of the `iid` parameter will change from True to False in version 0.22 and will be removed in 0.24. This will change numeric results when test-set sizes are unequal.\n",
      "  DeprecationWarning)\n"
     ]
    }
   ],
   "source": [
    "X = final17_c[X_census_col]\n",
    "y = sales17['s_median_sales']\n",
    "\n",
    "dtr_assess(X, y)"
   ]
  },
  {
   "cell_type": "markdown",
   "metadata": {},
   "source": [
    "## Using transportation variables"
   ]
  },
  {
   "cell_type": "markdown",
   "metadata": {},
   "source": [
    "### All transportations"
   ]
  },
  {
   "cell_type": "code",
   "execution_count": 14,
   "metadata": {
    "scrolled": true
   },
   "outputs": [
    {
     "name": "stdout",
     "output_type": "stream",
     "text": [
      "shape of X:  (113, 1)\n",
      "shape of y:  (113,)\n",
      "shape of X_train:  (84, 1)\n",
      "shape of y_train:  (84,)\n",
      "shape of X_test:  (29, 1)\n",
      "shape of y_test:  (29,)\n",
      "best max depth para is:  {'max_depth': 2}\n",
      "R2 from CV:  0.42490424233809015\n",
      "rmse train data of max_depth = 2:  211.7211062056669\n",
      "r2 train data of max_depth = 2:  0.7101398179612339\n",
      "rmse test data of max_depth = 2:  356.2274778973721\n",
      "r2 test data of max_depth = 2:  0.6161760129000582\n"
     ]
    },
    {
     "name": "stderr",
     "output_type": "stream",
     "text": [
      "/usr/local/lib/python3.7/site-packages/sklearn/model_selection/_search.py:814: DeprecationWarning: The default of the `iid` parameter will change from True to False in version 0.22 and will be removed in 0.24. This will change numeric results when test-set sizes are unequal.\n",
      "  DeprecationWarning)\n"
     ]
    }
   ],
   "source": [
    "X = final17_c[X_transpo_all_col]\n",
    "y = sales17['s_median_sales']\n",
    "\n",
    "dtr_assess(X, y)"
   ]
  },
  {
   "cell_type": "markdown",
   "metadata": {},
   "source": [
    "### Bus stops only"
   ]
  },
  {
   "cell_type": "code",
   "execution_count": 15,
   "metadata": {
    "scrolled": false
   },
   "outputs": [
    {
     "name": "stdout",
     "output_type": "stream",
     "text": [
      "shape of X:  (113, 1)\n",
      "shape of y:  (113,)\n",
      "shape of X_train:  (84, 1)\n",
      "shape of y_train:  (84,)\n",
      "shape of X_test:  (29, 1)\n",
      "shape of y_test:  (29,)\n",
      "best max depth para is:  {'max_depth': 2}\n",
      "R2 from CV:  0.40623093278563926\n",
      "rmse train data of max_depth = 2:  211.7211062056669\n",
      "r2 train data of max_depth = 2:  0.7101398179612339\n",
      "rmse test data of max_depth = 2:  356.2274778973721\n",
      "r2 test data of max_depth = 2:  0.6161760129000582\n"
     ]
    },
    {
     "name": "stderr",
     "output_type": "stream",
     "text": [
      "/usr/local/lib/python3.7/site-packages/sklearn/model_selection/_search.py:814: DeprecationWarning: The default of the `iid` parameter will change from True to False in version 0.22 and will be removed in 0.24. This will change numeric results when test-set sizes are unequal.\n",
      "  DeprecationWarning)\n"
     ]
    }
   ],
   "source": [
    "X = final17_c[X_transpo_bus_col]\n",
    "y = sales17['s_median_sales']\n",
    "\n",
    "dtr_assess(X, y)"
   ]
  },
  {
   "cell_type": "markdown",
   "metadata": {},
   "source": [
    "### Train stations only"
   ]
  },
  {
   "cell_type": "code",
   "execution_count": 16,
   "metadata": {
    "scrolled": false
   },
   "outputs": [
    {
     "name": "stdout",
     "output_type": "stream",
     "text": [
      "shape of X:  (113, 1)\n",
      "shape of y:  (113,)\n",
      "shape of X_train:  (84, 1)\n",
      "shape of y_train:  (84,)\n",
      "shape of X_test:  (29, 1)\n",
      "shape of y_test:  (29,)\n",
      "best max depth para is:  {'max_depth': 6}\n",
      "R2 from CV:  0.22798827613954833\n",
      "rmse train data of max_depth = 6:  274.760136081774\n",
      "r2 train data of max_depth = 6:  0.5118338098801809\n",
      "rmse test data of max_depth = 6:  445.4408218873744\n",
      "r2 test data of max_depth = 6:  0.39985345508469883\n"
     ]
    },
    {
     "name": "stderr",
     "output_type": "stream",
     "text": [
      "/usr/local/lib/python3.7/site-packages/sklearn/model_selection/_search.py:814: DeprecationWarning: The default of the `iid` parameter will change from True to False in version 0.22 and will be removed in 0.24. This will change numeric results when test-set sizes are unequal.\n",
      "  DeprecationWarning)\n"
     ]
    }
   ],
   "source": [
    "X = final17_c[X_transpo_train_col]\n",
    "y = sales17['s_median_sales']\n",
    "\n",
    "dtr_assess(X, y)"
   ]
  },
  {
   "cell_type": "markdown",
   "metadata": {},
   "source": [
    "**-> Results above shows that inclunding train staions counts does not generate more accurate prediction**"
   ]
  },
  {
   "cell_type": "markdown",
   "metadata": {},
   "source": [
    "## Using nighttime lights variables"
   ]
  },
  {
   "cell_type": "code",
   "execution_count": 17,
   "metadata": {},
   "outputs": [
    {
     "name": "stdout",
     "output_type": "stream",
     "text": [
      "shape of X:  (113, 1)\n",
      "shape of y:  (113,)\n",
      "shape of X_train:  (84, 1)\n",
      "shape of y_train:  (84,)\n",
      "shape of X_test:  (29, 1)\n",
      "shape of y_test:  (29,)\n",
      "best max depth para is:  {'max_depth': 1}\n",
      "R2 from CV:  0.28058845751959344\n",
      "rmse train data of max_depth = 1:  258.39382999857077\n",
      "r2 train data of max_depth = 1:  0.568257770155604\n",
      "rmse test data of max_depth = 1:  395.27481275073177\n",
      "r2 test data of max_depth = 1:  0.5274197545103678\n"
     ]
    },
    {
     "name": "stderr",
     "output_type": "stream",
     "text": [
      "/usr/local/lib/python3.7/site-packages/sklearn/model_selection/_search.py:814: DeprecationWarning: The default of the `iid` parameter will change from True to False in version 0.22 and will be removed in 0.24. This will change numeric results when test-set sizes are unequal.\n",
      "  DeprecationWarning)\n"
     ]
    }
   ],
   "source": [
    "X = final17_c[X_ntl_col]\n",
    "y = sales17['s_median_sales']\n",
    "\n",
    "dtr_assess(X, y)"
   ]
  },
  {
   "cell_type": "markdown",
   "metadata": {},
   "source": [
    "## Using bus stops and nighttime lights variables"
   ]
  },
  {
   "cell_type": "code",
   "execution_count": 18,
   "metadata": {
    "scrolled": true
   },
   "outputs": [
    {
     "name": "stdout",
     "output_type": "stream",
     "text": [
      "shape of X:  (113, 3)\n",
      "shape of y:  (113,)\n",
      "shape of X_train:  (84, 3)\n",
      "shape of y_train:  (84,)\n",
      "shape of X_test:  (29, 3)\n",
      "shape of y_test:  (29,)\n",
      "best max depth para is:  {'max_depth': 11}\n",
      "R2 from CV:  0.5399859787790998\n",
      "rmse train data of max_depth = 11:  1.164964745021435\n",
      "r2 train data of max_depth = 11:  0.9999912242181886\n",
      "rmse test data of max_depth = 11:  413.5298538792428\n",
      "r2 test data of max_depth = 11:  0.48276129433892667\n"
     ]
    },
    {
     "name": "stderr",
     "output_type": "stream",
     "text": [
      "/usr/local/lib/python3.7/site-packages/sklearn/model_selection/_search.py:814: DeprecationWarning: The default of the `iid` parameter will change from True to False in version 0.22 and will be removed in 0.24. This will change numeric results when test-set sizes are unequal.\n",
      "  DeprecationWarning)\n"
     ]
    }
   ],
   "source": [
    "X = final17_c[X_transpo_bus + X_ntl_col]\n",
    "y = sales17['s_median_sales']\n",
    "\n",
    "dtr_assess(X, y)"
   ]
  },
  {
   "cell_type": "markdown",
   "metadata": {},
   "source": [
    "## Using all variables including only census and bus stops"
   ]
  },
  {
   "cell_type": "code",
   "execution_count": 19,
   "metadata": {
    "scrolled": false
   },
   "outputs": [
    {
     "name": "stdout",
     "output_type": "stream",
     "text": [
      "shape of X:  (113, 27)\n",
      "shape of y:  (113,)\n",
      "shape of X_train:  (84, 27)\n",
      "shape of y_train:  (84,)\n",
      "shape of X_test:  (29, 27)\n",
      "shape of y_test:  (29,)\n",
      "best max depth para is:  {'max_depth': 5}\n",
      "R2 from CV:  0.7479496505590264\n",
      "rmse train data of max_depth = 5:  44.92327919761741\n",
      "r2 train data of max_depth = 5:  0.9869502211371789\n",
      "rmse test data of max_depth = 5:  304.4118856668184\n",
      "r2 test data of max_depth = 5:  0.7197145903601332\n"
     ]
    },
    {
     "name": "stderr",
     "output_type": "stream",
     "text": [
      "/usr/local/lib/python3.7/site-packages/sklearn/model_selection/_search.py:814: DeprecationWarning: The default of the `iid` parameter will change from True to False in version 0.22 and will be removed in 0.24. This will change numeric results when test-set sizes are unequal.\n",
      "  DeprecationWarning)\n"
     ]
    }
   ],
   "source": [
    "X = final17_c[X_census_col+X_transpo_bus_col]\n",
    "y = sales17['s_median_sales']\n",
    "\n",
    "dtr_assess(X, y)"
   ]
  },
  {
   "cell_type": "markdown",
   "metadata": {},
   "source": [
    "----\n",
    "# Predict house sales median by dwelling type"
   ]
  },
  {
   "cell_type": "code",
   "execution_count": 20,
   "metadata": {},
   "outputs": [],
   "source": [
    "df_dw =  final17_c.melt(id_vars = ['LGA_CODE'], value_vars = ['s_median_nonstrata','s_median_strata'])\n",
    "df_dw = df_dw[df_dw.value > 0]\n",
    "\n",
    "df17_by_dw = final17_c.drop(columns = ['s_median_nonstrata','s_median_strata'])\n",
    "df17_by_dw = df17_by_dw.merge(df_dw, on = 'LGA_CODE', how = 'inner')\n",
    "df17_by_dw = df17_by_dw.rename(columns = {'variable' : 'dwell_type', 'value' : 'sales_median_by_dw'})\n",
    "\n",
    "dum_df17_by_dw = pd.get_dummies(df17_by_dw.dwell_type).drop(columns = ['s_median_nonstrata'])\n",
    "df17_by_dw = df17_by_dw.merge(dum_df17_by_dw, how = 'inner', left_index = True, right_index = True)\n",
    "\n",
    "X_dw_col = ['s_median_strata']"
   ]
  },
  {
   "cell_type": "code",
   "execution_count": 21,
   "metadata": {},
   "outputs": [
    {
     "name": "stdout",
     "output_type": "stream",
     "text": [
      "Shape of the df17_by_dw dataset:  (176, 125)\n",
      "The number of LGAs represented in the dataset is:  113\n"
     ]
    },
    {
     "data": {
      "text/html": [
       "<div>\n",
       "<style scoped>\n",
       "    .dataframe tbody tr th:only-of-type {\n",
       "        vertical-align: middle;\n",
       "    }\n",
       "\n",
       "    .dataframe tbody tr th {\n",
       "        vertical-align: top;\n",
       "    }\n",
       "\n",
       "    .dataframe thead th {\n",
       "        text-align: right;\n",
       "    }\n",
       "</style>\n",
       "<table border=\"1\" class=\"dataframe\">\n",
       "  <thead>\n",
       "    <tr style=\"text-align: right;\">\n",
       "      <th></th>\n",
       "      <th>LGA_CODE</th>\n",
       "      <th>LGA_NAME</th>\n",
       "      <th>s_mean_nonstrata</th>\n",
       "      <th>s_mean_strata</th>\n",
       "      <th>s_mean_sales</th>\n",
       "      <th>s_median_sales</th>\n",
       "      <th>r_one_br</th>\n",
       "      <th>r_two_br</th>\n",
       "      <th>r_three_br</th>\n",
       "      <th>r_four_or_more_br</th>\n",
       "      <th>...</th>\n",
       "      <th>ntl19_mean</th>\n",
       "      <th>ntl19_max</th>\n",
       "      <th>ntl19_sum</th>\n",
       "      <th>ntl17_mean_per_land_area</th>\n",
       "      <th>bstop_per_land_area</th>\n",
       "      <th>tstation_per_land_area</th>\n",
       "      <th>transpo_per_land_area</th>\n",
       "      <th>dwell_type</th>\n",
       "      <th>sales_median_by_dw</th>\n",
       "      <th>s_median_strata</th>\n",
       "    </tr>\n",
       "  </thead>\n",
       "  <tbody>\n",
       "    <tr>\n",
       "      <th>0</th>\n",
       "      <td>LGA10050</td>\n",
       "      <td>Albury</td>\n",
       "      <td>350.72904</td>\n",
       "      <td>197.23513</td>\n",
       "      <td>320.42552</td>\n",
       "      <td>290.0</td>\n",
       "      <td>162.5</td>\n",
       "      <td>220.0</td>\n",
       "      <td>290.0</td>\n",
       "      <td>375.0</td>\n",
       "      <td>...</td>\n",
       "      <td>2.501557</td>\n",
       "      <td>56.820000</td>\n",
       "      <td>4417.750000</td>\n",
       "      <td>13.711019</td>\n",
       "      <td>0.294170</td>\n",
       "      <td>0.003269</td>\n",
       "      <td>0.297438</td>\n",
       "      <td>s_median_nonstrata</td>\n",
       "      <td>320.0</td>\n",
       "      <td>0</td>\n",
       "    </tr>\n",
       "    <tr>\n",
       "      <th>1</th>\n",
       "      <td>LGA10050</td>\n",
       "      <td>Albury</td>\n",
       "      <td>350.72904</td>\n",
       "      <td>197.23513</td>\n",
       "      <td>320.42552</td>\n",
       "      <td>290.0</td>\n",
       "      <td>162.5</td>\n",
       "      <td>220.0</td>\n",
       "      <td>290.0</td>\n",
       "      <td>375.0</td>\n",
       "      <td>...</td>\n",
       "      <td>2.501557</td>\n",
       "      <td>56.820000</td>\n",
       "      <td>4417.750000</td>\n",
       "      <td>13.711019</td>\n",
       "      <td>0.294170</td>\n",
       "      <td>0.003269</td>\n",
       "      <td>0.297438</td>\n",
       "      <td>s_median_strata</td>\n",
       "      <td>206.0</td>\n",
       "      <td>1</td>\n",
       "    </tr>\n",
       "    <tr>\n",
       "      <th>2</th>\n",
       "      <td>LGA10130</td>\n",
       "      <td>Armidale Regional</td>\n",
       "      <td>372.99474</td>\n",
       "      <td>0.00000</td>\n",
       "      <td>361.56796</td>\n",
       "      <td>345.0</td>\n",
       "      <td>170.0</td>\n",
       "      <td>240.0</td>\n",
       "      <td>322.5</td>\n",
       "      <td>410.0</td>\n",
       "      <td>...</td>\n",
       "      <td>0.234065</td>\n",
       "      <td>41.060001</td>\n",
       "      <td>10910.721680</td>\n",
       "      <td>1.139977</td>\n",
       "      <td>0.001972</td>\n",
       "      <td>0.000116</td>\n",
       "      <td>0.002436</td>\n",
       "      <td>s_median_nonstrata</td>\n",
       "      <td>352.5</td>\n",
       "      <td>0</td>\n",
       "    </tr>\n",
       "    <tr>\n",
       "      <th>3</th>\n",
       "      <td>LGA10250</td>\n",
       "      <td>Ballina</td>\n",
       "      <td>695.14002</td>\n",
       "      <td>463.46875</td>\n",
       "      <td>616.27321</td>\n",
       "      <td>587.5</td>\n",
       "      <td>240.0</td>\n",
       "      <td>360.0</td>\n",
       "      <td>470.0</td>\n",
       "      <td>580.0</td>\n",
       "      <td>...</td>\n",
       "      <td>0.650873</td>\n",
       "      <td>23.889999</td>\n",
       "      <td>1676.650024</td>\n",
       "      <td>3.293157</td>\n",
       "      <td>0.123727</td>\n",
       "      <td>0.000000</td>\n",
       "      <td>0.138162</td>\n",
       "      <td>s_median_nonstrata</td>\n",
       "      <td>639.5</td>\n",
       "      <td>0</td>\n",
       "    </tr>\n",
       "    <tr>\n",
       "      <th>4</th>\n",
       "      <td>LGA10250</td>\n",
       "      <td>Ballina</td>\n",
       "      <td>695.14002</td>\n",
       "      <td>463.46875</td>\n",
       "      <td>616.27321</td>\n",
       "      <td>587.5</td>\n",
       "      <td>240.0</td>\n",
       "      <td>360.0</td>\n",
       "      <td>470.0</td>\n",
       "      <td>580.0</td>\n",
       "      <td>...</td>\n",
       "      <td>0.650873</td>\n",
       "      <td>23.889999</td>\n",
       "      <td>1676.650024</td>\n",
       "      <td>3.293157</td>\n",
       "      <td>0.123727</td>\n",
       "      <td>0.000000</td>\n",
       "      <td>0.138162</td>\n",
       "      <td>s_median_strata</td>\n",
       "      <td>424.0</td>\n",
       "      <td>1</td>\n",
       "    </tr>\n",
       "  </tbody>\n",
       "</table>\n",
       "<p>5 rows × 125 columns</p>\n",
       "</div>"
      ],
      "text/plain": [
       "   LGA_CODE           LGA_NAME  s_mean_nonstrata  s_mean_strata  s_mean_sales  \\\n",
       "0  LGA10050             Albury         350.72904      197.23513     320.42552   \n",
       "1  LGA10050             Albury         350.72904      197.23513     320.42552   \n",
       "2  LGA10130  Armidale Regional         372.99474        0.00000     361.56796   \n",
       "3  LGA10250            Ballina         695.14002      463.46875     616.27321   \n",
       "4  LGA10250            Ballina         695.14002      463.46875     616.27321   \n",
       "\n",
       "   s_median_sales  r_one_br  r_two_br  r_three_br  r_four_or_more_br  ...  \\\n",
       "0           290.0     162.5     220.0       290.0              375.0  ...   \n",
       "1           290.0     162.5     220.0       290.0              375.0  ...   \n",
       "2           345.0     170.0     240.0       322.5              410.0  ...   \n",
       "3           587.5     240.0     360.0       470.0              580.0  ...   \n",
       "4           587.5     240.0     360.0       470.0              580.0  ...   \n",
       "\n",
       "   ntl19_mean  ntl19_max     ntl19_sum  ntl17_mean_per_land_area  \\\n",
       "0    2.501557  56.820000   4417.750000                 13.711019   \n",
       "1    2.501557  56.820000   4417.750000                 13.711019   \n",
       "2    0.234065  41.060001  10910.721680                  1.139977   \n",
       "3    0.650873  23.889999   1676.650024                  3.293157   \n",
       "4    0.650873  23.889999   1676.650024                  3.293157   \n",
       "\n",
       "   bstop_per_land_area  tstation_per_land_area  transpo_per_land_area  \\\n",
       "0             0.294170                0.003269               0.297438   \n",
       "1             0.294170                0.003269               0.297438   \n",
       "2             0.001972                0.000116               0.002436   \n",
       "3             0.123727                0.000000               0.138162   \n",
       "4             0.123727                0.000000               0.138162   \n",
       "\n",
       "           dwell_type  sales_median_by_dw  s_median_strata  \n",
       "0  s_median_nonstrata               320.0                0  \n",
       "1     s_median_strata               206.0                1  \n",
       "2  s_median_nonstrata               352.5                0  \n",
       "3  s_median_nonstrata               639.5                0  \n",
       "4     s_median_strata               424.0                1  \n",
       "\n",
       "[5 rows x 125 columns]"
      ]
     },
     "execution_count": 21,
     "metadata": {},
     "output_type": "execute_result"
    }
   ],
   "source": [
    "print('Shape of the df17_by_dw dataset: ', df17_by_dw.shape)\n",
    "print('The number of LGAs represented in the dataset is: ', len(df17_by_dw.LGA_CODE.unique()))\n",
    "\n",
    "df17_by_dw.head()\n"
   ]
  },
  {
   "cell_type": "markdown",
   "metadata": {},
   "source": [
    "## Using all variables"
   ]
  },
  {
   "cell_type": "code",
   "execution_count": 22,
   "metadata": {},
   "outputs": [
    {
     "name": "stdout",
     "output_type": "stream",
     "text": [
      "shape of X:  (176, 27)\n",
      "shape of y:  (176,)\n",
      "shape of X_train:  (132, 27)\n",
      "shape of y_train:  (132,)\n",
      "shape of X_test:  (44, 27)\n",
      "shape of y_test:  (44,)\n",
      "best max depth para is:  {'max_depth': 12}\n",
      "R2 from CV:  0.8304104570018573\n",
      "rmse train data of max_depth = 12:  1.429324578253659\n",
      "r2 train data of max_depth = 12:  0.9999956834711148\n",
      "rmse test data of max_depth = 12:  239.21689501121534\n",
      "r2 test data of max_depth = 12:  0.7979729888233872\n"
     ]
    },
    {
     "name": "stderr",
     "output_type": "stream",
     "text": [
      "/usr/local/lib/python3.7/site-packages/sklearn/model_selection/_search.py:814: DeprecationWarning: The default of the `iid` parameter will change from True to False in version 0.22 and will be removed in 0.24. This will change numeric results when test-set sizes are unequal.\n",
      "  DeprecationWarning)\n"
     ]
    }
   ],
   "source": [
    "X = df17_by_dw[X_all_col + X_dw_col]\n",
    "y = df17_by_dw['sales_median_by_dw']\n",
    "\n",
    "dtr_assess(X, y)"
   ]
  },
  {
   "cell_type": "markdown",
   "metadata": {},
   "source": [
    "## Using census variables"
   ]
  },
  {
   "cell_type": "code",
   "execution_count": 23,
   "metadata": {
    "scrolled": true
   },
   "outputs": [
    {
     "name": "stdout",
     "output_type": "stream",
     "text": [
      "shape of X:  (176, 27)\n",
      "shape of y:  (176,)\n",
      "shape of X_train:  (132, 27)\n",
      "shape of y_train:  (132,)\n",
      "shape of X_test:  (44, 27)\n",
      "shape of y_test:  (44,)\n",
      "best max depth para is:  {'max_depth': 13}\n",
      "R2 from CV:  0.8269484732195795\n",
      "rmse train data of max_depth = 13:  0.0\n",
      "r2 train data of max_depth = 13:  1.0\n",
      "rmse test data of max_depth = 13:  276.7944827776825\n",
      "r2 test data of max_depth = 13:  0.7295166109388111\n"
     ]
    },
    {
     "name": "stderr",
     "output_type": "stream",
     "text": [
      "/usr/local/lib/python3.7/site-packages/sklearn/model_selection/_search.py:814: DeprecationWarning: The default of the `iid` parameter will change from True to False in version 0.22 and will be removed in 0.24. This will change numeric results when test-set sizes are unequal.\n",
      "  DeprecationWarning)\n"
     ]
    }
   ],
   "source": [
    "X = df17_by_dw[X_census_col + X_dw_col]\n",
    "y = df17_by_dw['sales_median_by_dw']\n",
    "\n",
    "dtr_assess(X, y)"
   ]
  },
  {
   "cell_type": "markdown",
   "metadata": {},
   "source": [
    "## Using transportation variables"
   ]
  },
  {
   "cell_type": "markdown",
   "metadata": {},
   "source": [
    "### All transportations"
   ]
  },
  {
   "cell_type": "code",
   "execution_count": 24,
   "metadata": {
    "scrolled": true
   },
   "outputs": [
    {
     "name": "stdout",
     "output_type": "stream",
     "text": [
      "shape of X:  (176, 2)\n",
      "shape of y:  (176,)\n",
      "shape of X_train:  (132, 2)\n",
      "shape of y_train:  (132,)\n",
      "shape of X_test:  (44, 2)\n",
      "shape of y_test:  (44,)\n",
      "best max depth para is:  {'max_depth': 4}\n",
      "R2 from CV:  0.7067789170893073\n",
      "rmse train data of max_depth = 4:  231.9337137000768\n",
      "r2 train data of max_depth = 4:  0.8863418214884189\n",
      "rmse test data of max_depth = 4:  329.1616471993258\n",
      "r2 test data of max_depth = 4:  0.6174887657933603\n"
     ]
    },
    {
     "name": "stderr",
     "output_type": "stream",
     "text": [
      "/usr/local/lib/python3.7/site-packages/sklearn/model_selection/_search.py:814: DeprecationWarning: The default of the `iid` parameter will change from True to False in version 0.22 and will be removed in 0.24. This will change numeric results when test-set sizes are unequal.\n",
      "  DeprecationWarning)\n"
     ]
    }
   ],
   "source": [
    "X = df17_by_dw[X_transpo_all_col + X_dw_col]\n",
    "y = df17_by_dw['sales_median_by_dw']\n",
    "\n",
    "dtr_assess(X, y)"
   ]
  },
  {
   "cell_type": "markdown",
   "metadata": {},
   "source": [
    "### Bus stops only"
   ]
  },
  {
   "cell_type": "code",
   "execution_count": 25,
   "metadata": {
    "scrolled": false
   },
   "outputs": [
    {
     "name": "stdout",
     "output_type": "stream",
     "text": [
      "shape of X:  (176, 2)\n",
      "shape of y:  (176,)\n",
      "shape of X_train:  (132, 2)\n",
      "shape of y_train:  (132,)\n",
      "shape of X_test:  (44, 2)\n",
      "shape of y_test:  (44,)\n",
      "best max depth para is:  {'max_depth': 4}\n",
      "R2 from CV:  0.7182977841931987\n",
      "rmse train data of max_depth = 4:  212.70304511598812\n",
      "r2 train data of max_depth = 4:  0.9044082653114646\n",
      "rmse test data of max_depth = 4:  353.1035251048799\n",
      "r2 test data of max_depth = 4:  0.5598204650192834\n"
     ]
    },
    {
     "name": "stderr",
     "output_type": "stream",
     "text": [
      "/usr/local/lib/python3.7/site-packages/sklearn/model_selection/_search.py:814: DeprecationWarning: The default of the `iid` parameter will change from True to False in version 0.22 and will be removed in 0.24. This will change numeric results when test-set sizes are unequal.\n",
      "  DeprecationWarning)\n"
     ]
    }
   ],
   "source": [
    "X = df17_by_dw[X_transpo_bus_col  + X_dw_col]\n",
    "y = df17_by_dw['sales_median_by_dw']\n",
    "\n",
    "dtr_assess(X, y)"
   ]
  },
  {
   "cell_type": "markdown",
   "metadata": {},
   "source": [
    "### Train stations only"
   ]
  },
  {
   "cell_type": "code",
   "execution_count": 26,
   "metadata": {
    "scrolled": false
   },
   "outputs": [
    {
     "name": "stdout",
     "output_type": "stream",
     "text": [
      "shape of X:  (176, 2)\n",
      "shape of y:  (176,)\n",
      "shape of X_train:  (132, 2)\n",
      "shape of y_train:  (132,)\n",
      "shape of X_test:  (44, 2)\n",
      "shape of y_test:  (44,)\n",
      "best max depth para is:  {'max_depth': 2}\n",
      "R2 from CV:  0.251419995407782\n",
      "rmse train data of max_depth = 2:  513.6912321640226\n",
      "r2 train data of max_depth = 2:  0.4424584551038053\n",
      "rmse test data of max_depth = 2:  395.87110538855376\n",
      "r2 test data of max_depth = 2:  0.4467348075011456\n"
     ]
    },
    {
     "name": "stderr",
     "output_type": "stream",
     "text": [
      "/usr/local/lib/python3.7/site-packages/sklearn/model_selection/_search.py:814: DeprecationWarning: The default of the `iid` parameter will change from True to False in version 0.22 and will be removed in 0.24. This will change numeric results when test-set sizes are unequal.\n",
      "  DeprecationWarning)\n"
     ]
    }
   ],
   "source": [
    "X = df17_by_dw[X_transpo_train_col  + X_dw_col]\n",
    "y = df17_by_dw['sales_median_by_dw']\n",
    "\n",
    "dtr_assess(X, y)"
   ]
  },
  {
   "cell_type": "markdown",
   "metadata": {},
   "source": [
    "**-> Results above also shows that transportation variables does not affeect sales median by dwelling type much**"
   ]
  },
  {
   "cell_type": "markdown",
   "metadata": {},
   "source": [
    "## Using nighttime lights variables"
   ]
  },
  {
   "cell_type": "code",
   "execution_count": 27,
   "metadata": {},
   "outputs": [
    {
     "name": "stdout",
     "output_type": "stream",
     "text": [
      "shape of X:  (176, 2)\n",
      "shape of y:  (176,)\n",
      "shape of X_train:  (132, 2)\n",
      "shape of y_train:  (132,)\n",
      "shape of X_test:  (44, 2)\n",
      "shape of y_test:  (44,)\n",
      "best max depth para is:  {'max_depth': 2}\n",
      "R2 from CV:  0.4654474907675229\n",
      "rmse train data of max_depth = 2:  374.2492952719113\n",
      "r2 train data of max_depth = 2:  0.7040659686493627\n",
      "rmse test data of max_depth = 2:  414.85774443184096\n",
      "r2 test data of max_depth = 2:  0.3923910751615668\n"
     ]
    },
    {
     "name": "stderr",
     "output_type": "stream",
     "text": [
      "/usr/local/lib/python3.7/site-packages/sklearn/model_selection/_search.py:814: DeprecationWarning: The default of the `iid` parameter will change from True to False in version 0.22 and will be removed in 0.24. This will change numeric results when test-set sizes are unequal.\n",
      "  DeprecationWarning)\n"
     ]
    }
   ],
   "source": [
    "X = df17_by_dw[X_ntl_col + X_dw_col]\n",
    "y = df17_by_dw['sales_median_by_dw']\n",
    "\n",
    "dtr_assess(X, y)"
   ]
  },
  {
   "cell_type": "markdown",
   "metadata": {},
   "source": [
    "## Using bus stops and nighttime lights variables"
   ]
  },
  {
   "cell_type": "code",
   "execution_count": 28,
   "metadata": {
    "scrolled": false
   },
   "outputs": [
    {
     "name": "stdout",
     "output_type": "stream",
     "text": [
      "shape of X:  (176, 4)\n",
      "shape of y:  (176,)\n",
      "shape of X_train:  (132, 4)\n",
      "shape of y_train:  (132,)\n",
      "shape of X_test:  (44, 4)\n",
      "shape of y_test:  (44,)\n",
      "best max depth para is:  {'max_depth': 10}\n",
      "R2 from CV:  0.7431169420079622\n",
      "rmse train data of max_depth = 10:  3.7921037044166535\n",
      "r2 train data of max_depth = 10:  0.9999696168121144\n",
      "rmse test data of max_depth = 10:  275.6864159497532\n",
      "r2 test data of max_depth = 10:  0.7316778806240403\n"
     ]
    },
    {
     "name": "stderr",
     "output_type": "stream",
     "text": [
      "/usr/local/lib/python3.7/site-packages/sklearn/model_selection/_search.py:814: DeprecationWarning: The default of the `iid` parameter will change from True to False in version 0.22 and will be removed in 0.24. This will change numeric results when test-set sizes are unequal.\n",
      "  DeprecationWarning)\n"
     ]
    }
   ],
   "source": [
    "X = df17_by_dw[X_transpo_bus + X_ntl_col + X_dw_col]\n",
    "y = df17_by_dw['sales_median_by_dw']\n",
    "\n",
    "dtr_assess(X, y)"
   ]
  },
  {
   "cell_type": "markdown",
   "metadata": {},
   "source": [
    "## Using all variables including only census and bus stops"
   ]
  },
  {
   "cell_type": "code",
   "execution_count": 29,
   "metadata": {
    "scrolled": true
   },
   "outputs": [
    {
     "name": "stdout",
     "output_type": "stream",
     "text": [
      "shape of X:  (176, 28)\n",
      "shape of y:  (176,)\n",
      "shape of X_train:  (132, 28)\n",
      "shape of y_train:  (132,)\n",
      "shape of X_test:  (44, 28)\n",
      "shape of y_test:  (44,)\n",
      "best max depth para is:  {'max_depth': 7}\n",
      "R2 from CV:  0.827991217711173\n",
      "rmse train data of max_depth = 7:  27.2380291690118\n",
      "r2 train data of max_depth = 7:  0.9984324395803813\n",
      "rmse test data of max_depth = 7:  302.4498566786456\n",
      "r2 test data of max_depth = 7:  0.6770520687306396\n"
     ]
    },
    {
     "name": "stderr",
     "output_type": "stream",
     "text": [
      "/usr/local/lib/python3.7/site-packages/sklearn/model_selection/_search.py:814: DeprecationWarning: The default of the `iid` parameter will change from True to False in version 0.22 and will be removed in 0.24. This will change numeric results when test-set sizes are unequal.\n",
      "  DeprecationWarning)\n"
     ]
    }
   ],
   "source": [
    "X = df17_by_dw[X_census_col+X_transpo_bus_col + X_dw_col]\n",
    "y = df17_by_dw['sales_median_by_dw']\n",
    "\n",
    "dtr_assess(X, y)"
   ]
  },
  {
   "cell_type": "code",
   "execution_count": null,
   "metadata": {},
   "outputs": [],
   "source": []
  }
 ],
 "metadata": {
  "kernelspec": {
   "display_name": "Python 3",
   "language": "python",
   "name": "python3"
  },
  "language_info": {
   "codemirror_mode": {
    "name": "ipython",
    "version": 3
   },
   "file_extension": ".py",
   "mimetype": "text/x-python",
   "name": "python",
   "nbconvert_exporter": "python",
   "pygments_lexer": "ipython3",
   "version": "3.7.4"
  }
 },
 "nbformat": 4,
 "nbformat_minor": 2
}
