{
 "cells": [
  {
   "cell_type": "code",
   "execution_count": 1,
   "metadata": {},
   "outputs": [],
   "source": [
    "import pandas as pd\n",
    "import numpy as np\n",
    "import matplotlib.pylab as plt\n",
    "%matplotlib inline\n",
    "import seaborn as sns\n",
    "\n",
    "from sklearn.tree import DecisionTreeRegressor\n",
    "from sklearn.model_selection import train_test_split\n",
    "\n",
    "from sklearn.model_selection import GridSearchCV\n",
    "\n",
    "\n",
    "from sklearn.metrics import mean_squared_error, make_scorer\n",
    "from sklearn.metrics import r2_score\n",
    "from sklearn.model_selection import cross_val_score\n"
   ]
  },
  {
   "cell_type": "markdown",
   "metadata": {},
   "source": [
    "## Load and clean rent 2017 data"
   ]
  },
  {
   "cell_type": "code",
   "execution_count": 2,
   "metadata": {},
   "outputs": [
    {
     "name": "stdout",
     "output_type": "stream",
     "text": [
      "shape of final df:  (121, 124)\n"
     ]
    }
   ],
   "source": [
    "#load and clean data\n",
    "final17 = pd.read_csv(\"Data/final17_dataset.csv\")\n",
    "\n",
    "nationality_col = ['P_Afghanistan_Tot','P_Australia_Tot','P_Bangladesh_Tot','P_Bosnia_Herzegov_Tot','P_Cambodia_Tot','P_Canada_Tot','P_Chile_Tot','P_China_Tot','P_Croatia_Tot','P_Egypt_Tot','P_England_Tot','P_Fiji_Tot','P_France_Tot','P_Germany_Tot','P_Greece_Tot','P_Hong_Kong_Tot',\n",
    " 'P_India_Tot','P_Indonesia_Tot','P_Iran_Tot','P_Iraq_Tot','P_Ireland_Tot','P_Italy_Tot','P_Japan_Tot','P_Korea_South_Tot','P_Lebanon_Tot','P_Malaysia_Tot','P_Malta_Tot','P_Mauritius_Tot','P_Myanmar_Tot','P_Nepal_Tot','P_Netherlands_Tot','P_New_Zealand_Tot',\n",
    " 'P_Nthern_Ireland_Tot','P_Pakistan_Tot','P_PNG_Tot','P_Philippines_Tot','P_Poland_Tot','P_Scotland_Tot','P_Singapore_Tot','P_South_Africa_Tot','P_SE_Europe_nfd_Tot','P_Sri_Lanka_Tot','P_Taiwan_Tot','P_Thailand_Tot','P_FYROM_Tot',\n",
    " 'P_Turkey_Tot','P_USA_Tot','P_Vietnam_Tot','P_Wales_Tot','P_Zimbabwe_Tot','P_Elsewhere_Tot']\n",
    "\n",
    "col_rename = {'Age_below_15_yr_perc':'pct_age_14below', 'Age_15_64_yr_perc' : 'pct_age_15_64',\n",
    "              'Age_over_65_yr_perc' : 'pct_age_65above', 'BP_Aus_Perc' : 'pct_birthplace_au',\n",
    "              'BP_Non_Aus_Perc' : 'pct_birthplace_non_au', 'SE_Yr10_above_Perc' : 'pct_educ_yr10above',\n",
    "              'SE_Yr9_below_Perc' : 'pct_educ_yr9below', 'MS_Married_Perc' : 'pct_married',\n",
    "              'MS_Single_Perc' : 'pct_single', 'Percent_Unem_loyment_P' : 'unemployment_rate',\n",
    "              'Percnt_LabForc_prticipation_P' : 'lfpr', 'Percnt_Employment_to_populn_P' : 'employment_rate', \n",
    "              'Median_age_persons' : 'median_age', 'Median_tot_prsnl_inc_weekly' : 'median_weekly_pincome',\n",
    "              'Median_tot_fam_inc_weekly' : 'median_weekly_fincome',\n",
    "              'Median_tot_hhd_inc_weekly' : 'median_weekly_hincome', 'Average_household_size' : 'ave_hhsize'}\n",
    "\n",
    "final17_c = final17.fillna(0)\n",
    "final17_c = final17_c.drop(nationality_col, axis=1)\n",
    "final17_c = final17_c.rename(columns = col_rename)\n",
    "\n",
    "final17_c['ntl17_mean_per_land_area'] = final17_c.ntl17_sum / final17_c.land_area\n",
    "final17_c['bstop_per_land_area'] = final17_c.bus_stop / final17_c.land_area\n",
    "final17_c['tstation_per_land_area'] = final17_c.train_station / final17_c.land_area\n",
    "final17_c['transpo_per_land_area'] = final17_c.all_transpo / final17_c.land_area\n",
    "\n",
    "final17_c = final17_c[final17_c.r_weekly_rent_median > 0]\n",
    "print(\"shape of final df: \", final17_c.shape)"
   ]
  },
  {
   "cell_type": "code",
   "execution_count": 3,
   "metadata": {},
   "outputs": [],
   "source": [
    "sales17_col = ['s_mean_nonstrata','s_mean_strata','s_median_nonstrata','s_median_strata','s_mean_sales','s_median_sales']\n",
    "sales17=final17_c[sales17_col]\n",
    "\n",
    "rent17_col = ['r_one_br','r_two_br','r_three_br','r_four_or_more_br',\n",
    " 'r_bedsitter','r_not_specified','r_flat','r_house','r_other','r_townhouse','r_weekly_rent_median']\n",
    "\n",
    "rent17 = final17_c[rent17_col]"
   ]
  },
  {
   "cell_type": "code",
   "execution_count": 4,
   "metadata": {},
   "outputs": [
    {
     "name": "stdout",
     "output_type": "stream",
     "text": [
      "shape of rent df:  (121, 11)\n"
     ]
    }
   ],
   "source": [
    "print(\"shape of rent df: \",rent17.shape)"
   ]
  },
  {
   "cell_type": "code",
   "execution_count": 5,
   "metadata": {},
   "outputs": [
    {
     "data": {
      "text/html": [
       "<div>\n",
       "<style scoped>\n",
       "    .dataframe tbody tr th:only-of-type {\n",
       "        vertical-align: middle;\n",
       "    }\n",
       "\n",
       "    .dataframe tbody tr th {\n",
       "        vertical-align: top;\n",
       "    }\n",
       "\n",
       "    .dataframe thead th {\n",
       "        text-align: right;\n",
       "    }\n",
       "</style>\n",
       "<table border=\"1\" class=\"dataframe\">\n",
       "  <thead>\n",
       "    <tr style=\"text-align: right;\">\n",
       "      <th></th>\n",
       "      <th>r_one_br</th>\n",
       "      <th>r_two_br</th>\n",
       "      <th>r_three_br</th>\n",
       "      <th>r_four_or_more_br</th>\n",
       "      <th>r_bedsitter</th>\n",
       "      <th>r_not_specified</th>\n",
       "      <th>r_flat</th>\n",
       "      <th>r_house</th>\n",
       "      <th>r_other</th>\n",
       "      <th>r_townhouse</th>\n",
       "      <th>r_weekly_rent_median</th>\n",
       "    </tr>\n",
       "  </thead>\n",
       "  <tbody>\n",
       "    <tr>\n",
       "      <th>0</th>\n",
       "      <td>162.5</td>\n",
       "      <td>220.0</td>\n",
       "      <td>290.0</td>\n",
       "      <td>375.0</td>\n",
       "      <td>0.0</td>\n",
       "      <td>280.0</td>\n",
       "      <td>200.0</td>\n",
       "      <td>310.0</td>\n",
       "      <td>277.5</td>\n",
       "      <td>277.5</td>\n",
       "      <td>270.0</td>\n",
       "    </tr>\n",
       "    <tr>\n",
       "      <th>1</th>\n",
       "      <td>170.0</td>\n",
       "      <td>240.0</td>\n",
       "      <td>322.5</td>\n",
       "      <td>410.0</td>\n",
       "      <td>0.0</td>\n",
       "      <td>250.0</td>\n",
       "      <td>230.0</td>\n",
       "      <td>330.0</td>\n",
       "      <td>0.0</td>\n",
       "      <td>0.0</td>\n",
       "      <td>280.0</td>\n",
       "    </tr>\n",
       "    <tr>\n",
       "      <th>2</th>\n",
       "      <td>240.0</td>\n",
       "      <td>360.0</td>\n",
       "      <td>470.0</td>\n",
       "      <td>580.0</td>\n",
       "      <td>0.0</td>\n",
       "      <td>460.0</td>\n",
       "      <td>350.0</td>\n",
       "      <td>510.0</td>\n",
       "      <td>415.0</td>\n",
       "      <td>455.0</td>\n",
       "      <td>450.0</td>\n",
       "    </tr>\n",
       "    <tr>\n",
       "      <th>4</th>\n",
       "      <td>190.0</td>\n",
       "      <td>270.0</td>\n",
       "      <td>320.0</td>\n",
       "      <td>415.0</td>\n",
       "      <td>0.0</td>\n",
       "      <td>310.0</td>\n",
       "      <td>260.0</td>\n",
       "      <td>340.0</td>\n",
       "      <td>310.0</td>\n",
       "      <td>280.0</td>\n",
       "      <td>310.0</td>\n",
       "    </tr>\n",
       "    <tr>\n",
       "      <th>5</th>\n",
       "      <td>205.0</td>\n",
       "      <td>270.0</td>\n",
       "      <td>350.0</td>\n",
       "      <td>400.0</td>\n",
       "      <td>0.0</td>\n",
       "      <td>0.0</td>\n",
       "      <td>265.0</td>\n",
       "      <td>355.0</td>\n",
       "      <td>350.0</td>\n",
       "      <td>330.0</td>\n",
       "      <td>320.0</td>\n",
       "    </tr>\n",
       "  </tbody>\n",
       "</table>\n",
       "</div>"
      ],
      "text/plain": [
       "   r_one_br  r_two_br  r_three_br  r_four_or_more_br  r_bedsitter  \\\n",
       "0     162.5     220.0       290.0              375.0          0.0   \n",
       "1     170.0     240.0       322.5              410.0          0.0   \n",
       "2     240.0     360.0       470.0              580.0          0.0   \n",
       "4     190.0     270.0       320.0              415.0          0.0   \n",
       "5     205.0     270.0       350.0              400.0          0.0   \n",
       "\n",
       "   r_not_specified  r_flat  r_house  r_other  r_townhouse  \\\n",
       "0            280.0   200.0    310.0    277.5        277.5   \n",
       "1            250.0   230.0    330.0      0.0          0.0   \n",
       "2            460.0   350.0    510.0    415.0        455.0   \n",
       "4            310.0   260.0    340.0    310.0        280.0   \n",
       "5              0.0   265.0    355.0    350.0        330.0   \n",
       "\n",
       "   r_weekly_rent_median  \n",
       "0                 270.0  \n",
       "1                 280.0  \n",
       "2                 450.0  \n",
       "4                 310.0  \n",
       "5                 320.0  "
      ]
     },
     "execution_count": 5,
     "metadata": {},
     "output_type": "execute_result"
    }
   ],
   "source": [
    "rent17.head()"
   ]
  },
  {
   "cell_type": "code",
   "execution_count": 6,
   "metadata": {},
   "outputs": [],
   "source": [
    "lga_id = ['LGA_CODE', 'LGA_NAME']\n",
    "\n",
    "X_ntl = ['land_area', 'ntl17_mean', 'ntl17_mean_per_land_area']\n",
    "X_transpo_bus = ['bus_stop', 'bstop_per_land_area']\n",
    "X_transpo_train = ['train_station', 'tstation_per_land_area']\n",
    "X_transpo_all = ['all_transpo', 'transpo_per_land_area']\n",
    "X_census_age = ['pct_age_14below', 'pct_age_15_64', 'pct_age_65above']\n",
    "X_census_origin = ['pct_birthplace_au', 'pct_birthplace_non_au']\n",
    "X_census_educ = ['pct_educ_yr10above', 'pct_educ_yr9below']\n",
    "X_census_marital_stat = ['pct_married', 'pct_single']\n",
    "X_census_employment = ['unemployment_rate', 'lfpr', 'employment_rate']\n",
    "X_census_educ_qual = ['pct_pgrad', 'pct_grad_cert_dip', 'pct_bach_deg', 'pct_adv_dip', 'pct_cert_iii_iv',\n",
    "                      'pct_cert_i_ii', 'pct_others']\n",
    "X_census_stats = ['median_age', 'median_weekly_pincome', 'median_weekly_fincome', 'median_weekly_hincome',\n",
    "                  'ave_hhsize']\n",
    "\n",
    "X_transpo_bus_col= ['bstop_per_land_area']\n",
    "X_transpo_train_col= ['tstation_per_land_area']\n",
    "X_transpo_all_col = ['transpo_per_land_area']\n",
    "X_ntl_col = ['ntl17_mean_per_land_area']\n",
    "X_census_col = X_census_age+X_census_origin+X_census_origin+X_census_educ+X_census_marital_stat+X_census_employment+X_census_educ_qual+X_census_stats\n",
    "\n",
    "X_all_col = X_ntl_col+X_transpo_all_col+X_census_age+X_census_origin+X_census_educ+X_census_marital_stat+X_census_employment+X_census_educ_qual+X_census_stats\n",
    "X_all_excl_train_col = X_ntl_col+X_transpo_bus_col+X_census_age+X_census_origin+X_census_educ+X_census_marital_stat+X_census_employment+X_census_educ_qual+X_census_stats\n"
   ]
  },
  {
   "cell_type": "markdown",
   "metadata": {},
   "source": [
    "# Predict house rent median"
   ]
  },
  {
   "cell_type": "markdown",
   "metadata": {},
   "source": [
    "## Using all variables"
   ]
  },
  {
   "cell_type": "markdown",
   "metadata": {},
   "source": [
    "#### Choose and split data"
   ]
  },
  {
   "cell_type": "code",
   "execution_count": 7,
   "metadata": {},
   "outputs": [],
   "source": [
    "X = final17_c[X_all_col]\n",
    "y = rent17['r_weekly_rent_median']"
   ]
  },
  {
   "cell_type": "code",
   "execution_count": 8,
   "metadata": {},
   "outputs": [
    {
     "name": "stdout",
     "output_type": "stream",
     "text": [
      "shape of X:  (121, 26)\n",
      "shape of y:  (121,)\n"
     ]
    }
   ],
   "source": [
    "print(\"shape of X: \", X.shape)\n",
    "print(\"shape of y: \", y.shape)"
   ]
  },
  {
   "cell_type": "code",
   "execution_count": 9,
   "metadata": {},
   "outputs": [
    {
     "name": "stdout",
     "output_type": "stream",
     "text": [
      "shape of X_train:  (90, 26)\n",
      "shape of y_train:  (90,)\n",
      "shape of X_test:  (31, 26)\n",
      "shape of y_test:  (31,)\n"
     ]
    }
   ],
   "source": [
    "# 75% split\n",
    "X_train, X_test, y_train, y_test = train_test_split(X, y, random_state = 42)\n",
    "\n",
    "\n",
    "print(\"shape of X_train: \", X_train.shape)\n",
    "print(\"shape of y_train: \", y_train.shape)\n",
    "print(\"shape of X_test: \", X_test.shape)\n",
    "print(\"shape of y_test: \", y_test.shape)\n"
   ]
  },
  {
   "cell_type": "markdown",
   "metadata": {},
   "source": [
    "#### Use cross validation to find best max depth"
   ]
  },
  {
   "cell_type": "code",
   "execution_count": 10,
   "metadata": {},
   "outputs": [
    {
     "name": "stdout",
     "output_type": "stream",
     "text": [
      "best max depth para is:  {'max_depth': 8}\n",
      "R2 =  0.7441506814829111\n"
     ]
    }
   ],
   "source": [
    "# best depth\n",
    "dtr = DecisionTreeRegressor(random_state = 42)\n",
    "param_grid = {'max_depth':np.arange(1,50)}\n",
    "dtr_grid_cv = GridSearchCV(dtr, param_grid, cv = 10, scoring = 'r2')\n",
    "dtr_grid_cv.fit(X_train, y_train)\n",
    "print(\"best max depth para is: \", dtr_grid_cv.best_params_)\n",
    "print(\"R2 = \", dtr_grid_cv.best_score_)"
   ]
  },
  {
   "cell_type": "markdown",
   "metadata": {},
   "source": [
    "**-> Based on cross validataion result, best max_depth parameter for the regression is 8**"
   ]
  },
  {
   "cell_type": "markdown",
   "metadata": {},
   "source": [
    "#### Scoring"
   ]
  },
  {
   "cell_type": "code",
   "execution_count": 11,
   "metadata": {},
   "outputs": [
    {
     "name": "stdout",
     "output_type": "stream",
     "text": [
      "rmse train data of max_depth=10:  2.3186542233389194\n",
      "r2 train data of max_depth=10:  0.9997344545638964\n",
      "rmse test data of max_depth=10:  55.73454589152734\n",
      "r2 test data of max_depth=10:  0.8477305866528717\n"
     ]
    }
   ],
   "source": [
    "dtr_d10 = DecisionTreeRegressor(max_depth=8, random_state=42)\n",
    "\n",
    "dtr_d10.fit(X_train,y_train)\n",
    "\n",
    "y_pre_d10_train = dtr_d10.predict(X_train)\n",
    "y_pre_d10_test = dtr_d10.predict(X_test)\n",
    "\n",
    "rmse_train = np.sqrt(mean_squared_error(y_train,y_pre_d10_train))\n",
    "rsq_train = r2_score(y_train,y_pre_d10_train)\n",
    "#adj_rsq_train = 1 - (1 - rsq_train) * (len(y_train) - 1) / (len(y_train) - X_train.shape[1] - 1)\n",
    "\n",
    "rmse_test = np.sqrt(mean_squared_error(y_test,y_pre_d10_test))\n",
    "rsq_test = r2_score(y_test,y_pre_d10_test)\n",
    "#adj_rsq_test = 1 - (1 - rsq_test) * (len(y_test) - 1) / (len(y_test) - X_test.shape[1] - 1)\n",
    "\n",
    "\n",
    "print(\"rmse train data of max_depth=10: \", rmse_train)\n",
    "print(\"r2 train data of max_depth=10: \", rsq_train)\n",
    "#print(\"adjusted r2 train data of max_depth = 10: \", adj_rsq_train)\n",
    "\n",
    "print(\"rmse test data of max_depth=10: \", rmse_test)\n",
    "print(\"r2 test data of max_depth=10: \", rsq_test)\n",
    "#print(\"adjusted r2 test data of max_depth = 10: \", adj_rsq_test)\n"
   ]
  },
  {
   "cell_type": "markdown",
   "metadata": {},
   "source": [
    "## Defining functions for using other variables"
   ]
  },
  {
   "cell_type": "markdown",
   "metadata": {},
   "source": [
    "Other grouped variables will be tested using same process above with bellowed functions"
   ]
  },
  {
   "cell_type": "code",
   "execution_count": 12,
   "metadata": {},
   "outputs": [],
   "source": [
    "def load_data(X,y):\n",
    "    #print(\"shape of X: \", X.shape)\n",
    "    #print(\"shape of y: \", y.shape)\n",
    "    \n",
    "    X_train, X_test, y_train, y_test = train_test_split(X, y, random_state = 42)\n",
    "    #print(\"shape of X_train: \", X_train.shape)\n",
    "    #print(\"shape of y_train: \", y_train.shape)\n",
    "    #print(\"shape of X_test: \", X_test.shape)\n",
    "    #print(\"shape of y_test: \", y_test.shape)\n",
    "    \n",
    "    return X_train, y_train, X_test, y_test\n",
    "\n",
    "def dtr_best_depth(X_train, y_train):\n",
    "\n",
    "    # best depth\n",
    "    dtr = DecisionTreeRegressor(random_state = 42)\n",
    "    param_grid = {'max_depth':np.arange(1,50)}\n",
    "    dtr_grid_cv = GridSearchCV(dtr, param_grid, cv = 10, scoring = 'r2')\n",
    "    dtr_grid_cv.fit(X_train, y_train)\n",
    "    best_depth = dtr_grid_cv.best_params_\n",
    "    best_score = dtr_grid_cv.best_score_\n",
    "    \n",
    "    #print(\"best max depth para is: \", dtr_grid_cv.best_params_)\n",
    "    #print(\"R2 from CV = \", dtr_grid_cv.best_score_)\n",
    "\n",
    "    return best_depth, best_score\n",
    "\n",
    "def scoring(max_depth, X_train, y_train, X_test, y_test):\n",
    "    dtr = DecisionTreeRegressor(max_depth = max_depth, random_state=42)\n",
    "    dtr.fit(X_train, y_train)\n",
    "    y_pre_train = dtr.predict(X_train)\n",
    "    y_pre_test = dtr.predict(X_test)\n",
    "    \n",
    "    #print(\"rmse of {}: \".format(max_depth), np.sqrt(mean_squared_error(y_test,y_pre)))\n",
    "    #print(\"r2 of {}: \".format(max_depth), r2_score(y_test,y_pre))\n",
    "    \n",
    "    rmse_train = np.sqrt(mean_squared_error(y_train,y_pre_train))\n",
    "    rsq_train = r2_score(y_train,y_pre_train)\n",
    "    adj_rsq_train = 1 - (1 - rsq_train) * (len(y_train) - 1) / (len(y_train) - X_train.shape[1] - 1)\n",
    "    \n",
    "    rmse_test = np.sqrt(mean_squared_error(y_test,y_pre_test))\n",
    "    rsq_test = r2_score(y_test,y_pre_test)\n",
    "    adj_rsq_test = 1 - (1 - rsq_test) * (len(y_test) - 1) / (len(y_test) - X_test.shape[1] - 1)\n",
    "    \n",
    "    return rmse_train, rsq_train, adj_rsq_train, rmse_test, rsq_test, adj_rsq_test\n",
    "    \n",
    "    \n",
    "    \n",
    "def dtr_assess(X, y):\n",
    "    \n",
    "    data = load_data(X, y)\n",
    "    best_depth = dtr_best_depth(data[0], data[1])\n",
    "    scores = scoring(best_depth[0]['max_depth'],data[0], data[1], data[2], data[3])\n",
    "    #scores = scoring(1,data[0], data[1], data[2], data[3])\n",
    "    \n",
    "    print(\"shape of X: \", X.shape)\n",
    "    print(\"shape of y: \", y.shape)\n",
    "    \n",
    "    print(\"shape of X_train: \", data[0].shape)\n",
    "    print(\"shape of y_train: \", data[1].shape)\n",
    "    print(\"shape of X_test: \", data[2].shape)\n",
    "    print(\"shape of y_test: \", data[3].shape)               \n",
    "\n",
    "    print(\"best max depth para is: \", best_depth[0])\n",
    "    print(\"R2 from CV: \", best_depth[1])\n",
    "    \n",
    "    print(\"rmse train data of max_depth = {}: \".format(best_depth[0]['max_depth']), scores[0])\n",
    "    print(\"r2 train data of max_depth = {}: \".format(best_depth[0]['max_depth']), scores[1]) \n",
    "    #print(\"adjusted r2 train data of max_depth = {}: \".format(best_depth[0]['max_depth']), scores[2])\n",
    "    \n",
    "    print(\"rmse test data of max_depth = {}: \".format(best_depth[0]['max_depth']), scores[3])\n",
    "    print(\"r2 test data of max_depth = {}: \".format(best_depth[0]['max_depth']), scores[4])      \n",
    "    #print(\"adjusted r2 test data of max_depth = {}: \".format(best_depth[0]['max_depth']), scores[5])            \n",
    "                                  "
   ]
  },
  {
   "cell_type": "markdown",
   "metadata": {},
   "source": [
    "## Using census variables"
   ]
  },
  {
   "cell_type": "code",
   "execution_count": 13,
   "metadata": {
    "scrolled": true
   },
   "outputs": [
    {
     "name": "stdout",
     "output_type": "stream",
     "text": [
      "shape of X:  (121, 26)\n",
      "shape of y:  (121,)\n",
      "shape of X_train:  (90, 26)\n",
      "shape of y_train:  (90,)\n",
      "shape of X_test:  (31, 26)\n",
      "shape of y_test:  (31,)\n",
      "best max depth para is:  {'max_depth': 8}\n",
      "R2 from CV:  0.7771055464913436\n",
      "rmse train data of max_depth = 8:  3.6839419880650364\n",
      "r2 train data of max_depth = 8:  0.9993296641736006\n",
      "rmse test data of max_depth = 8:  84.22007910717586\n",
      "r2 test data of max_depth = 8:  0.6523077338669976\n"
     ]
    }
   ],
   "source": [
    "X = final17_c[X_census_col]\n",
    "y = rent17['r_weekly_rent_median']\n",
    "\n",
    "dtr_assess(X, y)"
   ]
  },
  {
   "cell_type": "markdown",
   "metadata": {},
   "source": [
    "## Using transportation variables"
   ]
  },
  {
   "cell_type": "markdown",
   "metadata": {},
   "source": [
    "### All transportations"
   ]
  },
  {
   "cell_type": "code",
   "execution_count": 14,
   "metadata": {
    "scrolled": true
   },
   "outputs": [
    {
     "name": "stdout",
     "output_type": "stream",
     "text": [
      "shape of X:  (121, 1)\n",
      "shape of y:  (121,)\n",
      "shape of X_train:  (90, 1)\n",
      "shape of y_train:  (90,)\n",
      "shape of X_test:  (31, 1)\n",
      "shape of y_test:  (31,)\n",
      "best max depth para is:  {'max_depth': 5}\n",
      "R2 from CV:  0.7434863940431771\n",
      "rmse train data of max_depth = 5:  32.41154177070065\n",
      "r2 train data of max_depth = 5:  0.9481120818346076\n",
      "rmse test data of max_depth = 5:  72.24275459367833\n",
      "r2 test data of max_depth = 5:  0.7441694910411718\n"
     ]
    }
   ],
   "source": [
    "X = final17_c[X_transpo_all_col]\n",
    "y = rent17['r_weekly_rent_median']\n",
    "\n",
    "dtr_assess(X, y)"
   ]
  },
  {
   "cell_type": "markdown",
   "metadata": {},
   "source": [
    "### Bus stops only"
   ]
  },
  {
   "cell_type": "code",
   "execution_count": 15,
   "metadata": {
    "scrolled": false
   },
   "outputs": [
    {
     "name": "stdout",
     "output_type": "stream",
     "text": [
      "shape of X:  (121, 1)\n",
      "shape of y:  (121,)\n",
      "shape of X_train:  (90, 1)\n",
      "shape of y_train:  (90,)\n",
      "shape of X_test:  (31, 1)\n",
      "shape of y_test:  (31,)\n",
      "best max depth para is:  {'max_depth': 5}\n",
      "R2 from CV:  0.7336154297609776\n",
      "rmse train data of max_depth = 5:  32.422787442946344\n",
      "r2 train data of max_depth = 5:  0.9480760689997415\n",
      "rmse test data of max_depth = 5:  72.2856130764312\n",
      "r2 test data of max_depth = 5:  0.7438658547831098\n"
     ]
    }
   ],
   "source": [
    "X = final17_c[X_transpo_bus_col]\n",
    "y = rent17['r_weekly_rent_median']\n",
    "\n",
    "dtr_assess(X, y)"
   ]
  },
  {
   "cell_type": "markdown",
   "metadata": {},
   "source": [
    "### Train stations only"
   ]
  },
  {
   "cell_type": "code",
   "execution_count": 16,
   "metadata": {
    "scrolled": false
   },
   "outputs": [
    {
     "name": "stdout",
     "output_type": "stream",
     "text": [
      "shape of X:  (121, 1)\n",
      "shape of y:  (121,)\n",
      "shape of X_train:  (90, 1)\n",
      "shape of y_train:  (90,)\n",
      "shape of X_test:  (31, 1)\n",
      "shape of y_test:  (31,)\n",
      "best max depth para is:  {'max_depth': 2}\n",
      "R2 from CV:  0.3574138733604668\n",
      "rmse train data of max_depth = 2:  98.83129427416294\n",
      "r2 train data of max_depth = 2:  0.5175460888675221\n",
      "rmse test data of max_depth = 2:  111.03574345483992\n",
      "r2 test data of max_depth = 2:  0.39564885376009384\n"
     ]
    }
   ],
   "source": [
    "X = final17_c[X_transpo_train_col]\n",
    "y = rent17['r_weekly_rent_median']\n",
    "\n",
    "dtr_assess(X, y)"
   ]
  },
  {
   "cell_type": "markdown",
   "metadata": {},
   "source": [
    "**-> Results above shows that inclunding train staions counts does not generate more accurate prediction**"
   ]
  },
  {
   "cell_type": "markdown",
   "metadata": {},
   "source": [
    "## Using nighttime lights variables"
   ]
  },
  {
   "cell_type": "code",
   "execution_count": 17,
   "metadata": {},
   "outputs": [
    {
     "name": "stdout",
     "output_type": "stream",
     "text": [
      "shape of X:  (121, 1)\n",
      "shape of y:  (121,)\n",
      "shape of X_train:  (90, 1)\n",
      "shape of y_train:  (90,)\n",
      "shape of X_test:  (31, 1)\n",
      "shape of y_test:  (31,)\n",
      "best max depth para is:  {'max_depth': 2}\n",
      "R2 from CV:  0.4822577313007422\n",
      "rmse train data of max_depth = 2:  69.53474793752518\n",
      "r2 train data of max_depth = 2:  0.7611800323573423\n",
      "rmse test data of max_depth = 2:  74.71430899314855\n",
      "r2 test data of max_depth = 2:  0.7263652125036986\n"
     ]
    }
   ],
   "source": [
    "X = final17_c[X_ntl_col]\n",
    "y = rent17['r_weekly_rent_median']\n",
    "\n",
    "dtr_assess(X, y)"
   ]
  },
  {
   "cell_type": "markdown",
   "metadata": {},
   "source": [
    "## Using bus stops and nighttime lights variables"
   ]
  },
  {
   "cell_type": "code",
   "execution_count": 18,
   "metadata": {
    "scrolled": true
   },
   "outputs": [
    {
     "name": "stdout",
     "output_type": "stream",
     "text": [
      "shape of X:  (121, 3)\n",
      "shape of y:  (121,)\n",
      "shape of X_train:  (90, 3)\n",
      "shape of y_train:  (90,)\n",
      "shape of X_test:  (31, 3)\n",
      "shape of y_test:  (31,)\n",
      "best max depth para is:  {'max_depth': 3}\n",
      "R2 from CV:  0.6479930039258802\n",
      "rmse train data of max_depth = 3:  46.0683757664991\n",
      "r2 train data of max_depth = 3:  0.8951731182944531\n",
      "rmse test data of max_depth = 3:  71.74371491703849\n",
      "r2 test data of max_depth = 3:  0.7476917436517823\n"
     ]
    }
   ],
   "source": [
    "X = final17_c[X_transpo_bus + X_ntl_col]\n",
    "y = rent17['r_weekly_rent_median']\n",
    "\n",
    "dtr_assess(X, y)"
   ]
  },
  {
   "cell_type": "markdown",
   "metadata": {},
   "source": [
    "## Using all variables excluding train station counts"
   ]
  },
  {
   "cell_type": "code",
   "execution_count": 19,
   "metadata": {
    "scrolled": true
   },
   "outputs": [
    {
     "name": "stdout",
     "output_type": "stream",
     "text": [
      "shape of X:  (121, 26)\n",
      "shape of y:  (121,)\n",
      "shape of X_train:  (90, 26)\n",
      "shape of y_train:  (90,)\n",
      "shape of X_test:  (31, 26)\n",
      "shape of y_test:  (31,)\n",
      "best max depth para is:  {'max_depth': 8}\n",
      "R2 from CV:  0.7564160418234713\n",
      "rmse train data of max_depth = 8:  2.723780733003573\n",
      "r2 train data of max_depth = 8:  0.9996335530149788\n",
      "rmse test data of max_depth = 8:  59.7081180728323\n",
      "r2 test data of max_depth = 8:  0.8252446394234482\n"
     ]
    }
   ],
   "source": [
    "X = final17_c[X_all_excl_train_col]\n",
    "y = rent17['r_weekly_rent_median']\n",
    "\n",
    "dtr_assess(X, y)"
   ]
  },
  {
   "cell_type": "markdown",
   "metadata": {},
   "source": [
    "----\n",
    "# Predict house rent median by dwelling type"
   ]
  },
  {
   "cell_type": "code",
   "execution_count": 20,
   "metadata": {},
   "outputs": [],
   "source": [
    "df_dw =  final17_c.melt(id_vars = ['LGA_CODE'], value_vars = ['r_flat', 'r_house', 'r_other', 'r_townhouse'])\n",
    "df_dw = df_dw[df_dw.value > 0]\n",
    "\n",
    "df17_by_dw = final17_c.drop(columns = ['r_flat', 'r_house', 'r_other', 'r_townhouse'])\n",
    "df17_by_dw = df17_by_dw.merge(df_dw, on = 'LGA_CODE', how = 'inner')\n",
    "df17_by_dw = df17_by_dw.rename(columns = {'variable' : 'dwell_type', 'value' : 'weekly_rent_median'})\n",
    "\n",
    "dum_df17_by_dw = pd.get_dummies(df17_by_dw.dwell_type).drop(columns = ['r_other'])\n",
    "df17_by_dw = df17_by_dw.merge(dum_df17_by_dw, how = 'inner', left_index = True, right_index = True)\n",
    "\n",
    "X_dw_col = ['r_flat', 'r_house', 'r_townhouse']"
   ]
  },
  {
   "cell_type": "code",
   "execution_count": 21,
   "metadata": {},
   "outputs": [
    {
     "name": "stdout",
     "output_type": "stream",
     "text": [
      "Shape of the df17_by_dw dataset:  (346, 125)\n",
      "The number of LGAs represented in the dataset is:  116\n"
     ]
    },
    {
     "data": {
      "text/html": [
       "<div>\n",
       "<style scoped>\n",
       "    .dataframe tbody tr th:only-of-type {\n",
       "        vertical-align: middle;\n",
       "    }\n",
       "\n",
       "    .dataframe tbody tr th {\n",
       "        vertical-align: top;\n",
       "    }\n",
       "\n",
       "    .dataframe thead th {\n",
       "        text-align: right;\n",
       "    }\n",
       "</style>\n",
       "<table border=\"1\" class=\"dataframe\">\n",
       "  <thead>\n",
       "    <tr style=\"text-align: right;\">\n",
       "      <th></th>\n",
       "      <th>LGA_CODE</th>\n",
       "      <th>LGA_NAME</th>\n",
       "      <th>s_mean_nonstrata</th>\n",
       "      <th>s_mean_strata</th>\n",
       "      <th>s_median_nonstrata</th>\n",
       "      <th>s_median_strata</th>\n",
       "      <th>s_mean_sales</th>\n",
       "      <th>s_median_sales</th>\n",
       "      <th>r_one_br</th>\n",
       "      <th>r_two_br</th>\n",
       "      <th>...</th>\n",
       "      <th>ntl19_sum</th>\n",
       "      <th>ntl17_mean_per_land_area</th>\n",
       "      <th>bstop_per_land_area</th>\n",
       "      <th>tstation_per_land_area</th>\n",
       "      <th>transpo_per_land_area</th>\n",
       "      <th>dwell_type</th>\n",
       "      <th>weekly_rent_median</th>\n",
       "      <th>r_flat</th>\n",
       "      <th>r_house</th>\n",
       "      <th>r_townhouse</th>\n",
       "    </tr>\n",
       "  </thead>\n",
       "  <tbody>\n",
       "    <tr>\n",
       "      <th>0</th>\n",
       "      <td>LGA10050</td>\n",
       "      <td>Albury</td>\n",
       "      <td>350.72904</td>\n",
       "      <td>197.23513</td>\n",
       "      <td>320.0</td>\n",
       "      <td>206.0</td>\n",
       "      <td>320.42552</td>\n",
       "      <td>290.0</td>\n",
       "      <td>162.5</td>\n",
       "      <td>220.0</td>\n",
       "      <td>...</td>\n",
       "      <td>4417.75000</td>\n",
       "      <td>13.711019</td>\n",
       "      <td>0.294170</td>\n",
       "      <td>0.003269</td>\n",
       "      <td>0.297438</td>\n",
       "      <td>r_flat</td>\n",
       "      <td>200.0</td>\n",
       "      <td>1</td>\n",
       "      <td>0</td>\n",
       "      <td>0</td>\n",
       "    </tr>\n",
       "    <tr>\n",
       "      <th>1</th>\n",
       "      <td>LGA10050</td>\n",
       "      <td>Albury</td>\n",
       "      <td>350.72904</td>\n",
       "      <td>197.23513</td>\n",
       "      <td>320.0</td>\n",
       "      <td>206.0</td>\n",
       "      <td>320.42552</td>\n",
       "      <td>290.0</td>\n",
       "      <td>162.5</td>\n",
       "      <td>220.0</td>\n",
       "      <td>...</td>\n",
       "      <td>4417.75000</td>\n",
       "      <td>13.711019</td>\n",
       "      <td>0.294170</td>\n",
       "      <td>0.003269</td>\n",
       "      <td>0.297438</td>\n",
       "      <td>r_house</td>\n",
       "      <td>310.0</td>\n",
       "      <td>0</td>\n",
       "      <td>1</td>\n",
       "      <td>0</td>\n",
       "    </tr>\n",
       "    <tr>\n",
       "      <th>2</th>\n",
       "      <td>LGA10050</td>\n",
       "      <td>Albury</td>\n",
       "      <td>350.72904</td>\n",
       "      <td>197.23513</td>\n",
       "      <td>320.0</td>\n",
       "      <td>206.0</td>\n",
       "      <td>320.42552</td>\n",
       "      <td>290.0</td>\n",
       "      <td>162.5</td>\n",
       "      <td>220.0</td>\n",
       "      <td>...</td>\n",
       "      <td>4417.75000</td>\n",
       "      <td>13.711019</td>\n",
       "      <td>0.294170</td>\n",
       "      <td>0.003269</td>\n",
       "      <td>0.297438</td>\n",
       "      <td>r_other</td>\n",
       "      <td>277.5</td>\n",
       "      <td>0</td>\n",
       "      <td>0</td>\n",
       "      <td>0</td>\n",
       "    </tr>\n",
       "    <tr>\n",
       "      <th>3</th>\n",
       "      <td>LGA10050</td>\n",
       "      <td>Albury</td>\n",
       "      <td>350.72904</td>\n",
       "      <td>197.23513</td>\n",
       "      <td>320.0</td>\n",
       "      <td>206.0</td>\n",
       "      <td>320.42552</td>\n",
       "      <td>290.0</td>\n",
       "      <td>162.5</td>\n",
       "      <td>220.0</td>\n",
       "      <td>...</td>\n",
       "      <td>4417.75000</td>\n",
       "      <td>13.711019</td>\n",
       "      <td>0.294170</td>\n",
       "      <td>0.003269</td>\n",
       "      <td>0.297438</td>\n",
       "      <td>r_townhouse</td>\n",
       "      <td>277.5</td>\n",
       "      <td>0</td>\n",
       "      <td>0</td>\n",
       "      <td>1</td>\n",
       "    </tr>\n",
       "    <tr>\n",
       "      <th>4</th>\n",
       "      <td>LGA10130</td>\n",
       "      <td>Armidale Regional</td>\n",
       "      <td>372.99474</td>\n",
       "      <td>0.00000</td>\n",
       "      <td>352.5</td>\n",
       "      <td>0.0</td>\n",
       "      <td>361.56796</td>\n",
       "      <td>345.0</td>\n",
       "      <td>170.0</td>\n",
       "      <td>240.0</td>\n",
       "      <td>...</td>\n",
       "      <td>10910.72168</td>\n",
       "      <td>1.139977</td>\n",
       "      <td>0.001972</td>\n",
       "      <td>0.000116</td>\n",
       "      <td>0.002436</td>\n",
       "      <td>r_flat</td>\n",
       "      <td>230.0</td>\n",
       "      <td>1</td>\n",
       "      <td>0</td>\n",
       "      <td>0</td>\n",
       "    </tr>\n",
       "  </tbody>\n",
       "</table>\n",
       "<p>5 rows × 125 columns</p>\n",
       "</div>"
      ],
      "text/plain": [
       "   LGA_CODE           LGA_NAME  s_mean_nonstrata  s_mean_strata  \\\n",
       "0  LGA10050             Albury         350.72904      197.23513   \n",
       "1  LGA10050             Albury         350.72904      197.23513   \n",
       "2  LGA10050             Albury         350.72904      197.23513   \n",
       "3  LGA10050             Albury         350.72904      197.23513   \n",
       "4  LGA10130  Armidale Regional         372.99474        0.00000   \n",
       "\n",
       "   s_median_nonstrata  s_median_strata  s_mean_sales  s_median_sales  \\\n",
       "0               320.0            206.0     320.42552           290.0   \n",
       "1               320.0            206.0     320.42552           290.0   \n",
       "2               320.0            206.0     320.42552           290.0   \n",
       "3               320.0            206.0     320.42552           290.0   \n",
       "4               352.5              0.0     361.56796           345.0   \n",
       "\n",
       "   r_one_br  r_two_br  ...    ntl19_sum  ntl17_mean_per_land_area  \\\n",
       "0     162.5     220.0  ...   4417.75000                 13.711019   \n",
       "1     162.5     220.0  ...   4417.75000                 13.711019   \n",
       "2     162.5     220.0  ...   4417.75000                 13.711019   \n",
       "3     162.5     220.0  ...   4417.75000                 13.711019   \n",
       "4     170.0     240.0  ...  10910.72168                  1.139977   \n",
       "\n",
       "   bstop_per_land_area  tstation_per_land_area  transpo_per_land_area  \\\n",
       "0             0.294170                0.003269               0.297438   \n",
       "1             0.294170                0.003269               0.297438   \n",
       "2             0.294170                0.003269               0.297438   \n",
       "3             0.294170                0.003269               0.297438   \n",
       "4             0.001972                0.000116               0.002436   \n",
       "\n",
       "    dwell_type  weekly_rent_median  r_flat  r_house  r_townhouse  \n",
       "0       r_flat               200.0       1        0            0  \n",
       "1      r_house               310.0       0        1            0  \n",
       "2      r_other               277.5       0        0            0  \n",
       "3  r_townhouse               277.5       0        0            1  \n",
       "4       r_flat               230.0       1        0            0  \n",
       "\n",
       "[5 rows x 125 columns]"
      ]
     },
     "execution_count": 21,
     "metadata": {},
     "output_type": "execute_result"
    }
   ],
   "source": [
    "print('Shape of the df17_by_dw dataset: ', df17_by_dw.shape)\n",
    "print('The number of LGAs represented in the dataset is: ', len(df17_by_dw.LGA_CODE.unique()))\n",
    "\n",
    "df17_by_dw.head()\n"
   ]
  },
  {
   "cell_type": "markdown",
   "metadata": {},
   "source": [
    "## Using all variables"
   ]
  },
  {
   "cell_type": "code",
   "execution_count": 22,
   "metadata": {},
   "outputs": [
    {
     "name": "stdout",
     "output_type": "stream",
     "text": [
      "shape of X:  (346, 29)\n",
      "shape of y:  (346,)\n",
      "shape of X_train:  (259, 29)\n",
      "shape of y_train:  (259,)\n",
      "shape of X_test:  (87, 29)\n",
      "shape of y_test:  (87,)\n",
      "best max depth para is:  {'max_depth': 10}\n",
      "R2 from CV:  0.9842876041789863\n",
      "rmse train data of max_depth = 10:  3.9265796716771093\n",
      "r2 train data of max_depth = 10:  0.999179263436791\n",
      "rmse test data of max_depth = 10:  20.254714727190343\n",
      "r2 test data of max_depth = 10:  0.9828455413255597\n"
     ]
    },
    {
     "name": "stderr",
     "output_type": "stream",
     "text": [
      "/usr/local/lib/python3.7/site-packages/sklearn/model_selection/_search.py:814: DeprecationWarning: The default of the `iid` parameter will change from True to False in version 0.22 and will be removed in 0.24. This will change numeric results when test-set sizes are unequal.\n",
      "  DeprecationWarning)\n"
     ]
    }
   ],
   "source": [
    "X = df17_by_dw[X_all_col + X_dw_col]\n",
    "y = df17_by_dw['r_weekly_rent_median']\n",
    "\n",
    "dtr_assess(X, y)"
   ]
  },
  {
   "cell_type": "markdown",
   "metadata": {},
   "source": [
    "## Using census variables"
   ]
  },
  {
   "cell_type": "code",
   "execution_count": 23,
   "metadata": {
    "scrolled": true
   },
   "outputs": [
    {
     "name": "stdout",
     "output_type": "stream",
     "text": [
      "shape of X:  (346, 29)\n",
      "shape of y:  (346,)\n",
      "shape of X_train:  (259, 29)\n",
      "shape of y_train:  (259,)\n",
      "shape of X_test:  (87, 29)\n",
      "shape of y_test:  (87,)\n",
      "best max depth para is:  {'max_depth': 12}\n",
      "R2 from CV:  0.9811274042024123\n",
      "rmse train data of max_depth = 12:  0.0\n",
      "r2 train data of max_depth = 12:  1.0\n",
      "rmse test data of max_depth = 12:  20.07171052049104\n",
      "r2 test data of max_depth = 12:  0.9831541268535929\n"
     ]
    },
    {
     "name": "stderr",
     "output_type": "stream",
     "text": [
      "/usr/local/lib/python3.7/site-packages/sklearn/model_selection/_search.py:814: DeprecationWarning: The default of the `iid` parameter will change from True to False in version 0.22 and will be removed in 0.24. This will change numeric results when test-set sizes are unequal.\n",
      "  DeprecationWarning)\n"
     ]
    }
   ],
   "source": [
    "X = df17_by_dw[X_census_col + X_dw_col]\n",
    "y = df17_by_dw['r_weekly_rent_median']\n",
    "\n",
    "dtr_assess(X, y)"
   ]
  },
  {
   "cell_type": "markdown",
   "metadata": {},
   "source": [
    "## Using transportation variables"
   ]
  },
  {
   "cell_type": "markdown",
   "metadata": {},
   "source": [
    "### All transportations"
   ]
  },
  {
   "cell_type": "code",
   "execution_count": 24,
   "metadata": {
    "scrolled": true
   },
   "outputs": [
    {
     "name": "stdout",
     "output_type": "stream",
     "text": [
      "shape of X:  (346, 4)\n",
      "shape of y:  (346,)\n",
      "shape of X_train:  (259, 4)\n",
      "shape of y_train:  (259,)\n",
      "shape of X_test:  (87, 4)\n",
      "shape of y_test:  (87,)\n",
      "best max depth para is:  {'max_depth': 12}\n",
      "R2 from CV:  0.9773216370954231\n",
      "rmse train data of max_depth = 12:  0.0\n",
      "r2 train data of max_depth = 12:  1.0\n",
      "rmse test data of max_depth = 12:  9.29250099341634\n",
      "r2 test data of max_depth = 12:  0.9963893117828136\n"
     ]
    },
    {
     "name": "stderr",
     "output_type": "stream",
     "text": [
      "/usr/local/lib/python3.7/site-packages/sklearn/model_selection/_search.py:814: DeprecationWarning: The default of the `iid` parameter will change from True to False in version 0.22 and will be removed in 0.24. This will change numeric results when test-set sizes are unequal.\n",
      "  DeprecationWarning)\n"
     ]
    }
   ],
   "source": [
    "X = df17_by_dw[X_transpo_all_col + X_dw_col]\n",
    "y = df17_by_dw['r_weekly_rent_median']\n",
    "\n",
    "dtr_assess(X, y)"
   ]
  },
  {
   "cell_type": "markdown",
   "metadata": {},
   "source": [
    "### Bus stops only"
   ]
  },
  {
   "cell_type": "code",
   "execution_count": 25,
   "metadata": {
    "scrolled": false
   },
   "outputs": [
    {
     "name": "stdout",
     "output_type": "stream",
     "text": [
      "shape of X:  (346, 4)\n",
      "shape of y:  (346,)\n",
      "shape of X_train:  (259, 4)\n",
      "shape of y_train:  (259,)\n",
      "shape of X_test:  (87, 4)\n",
      "shape of y_test:  (87,)\n",
      "best max depth para is:  {'max_depth': 12}\n",
      "R2 from CV:  0.9694377900744011\n",
      "rmse train data of max_depth = 12:  5.968061713635392\n",
      "r2 train data of max_depth = 12:  0.9981039858927456\n",
      "rmse test data of max_depth = 12:  15.015689963601874\n",
      "r2 test data of max_depth = 12:  0.9905720918773466\n"
     ]
    },
    {
     "name": "stderr",
     "output_type": "stream",
     "text": [
      "/usr/local/lib/python3.7/site-packages/sklearn/model_selection/_search.py:814: DeprecationWarning: The default of the `iid` parameter will change from True to False in version 0.22 and will be removed in 0.24. This will change numeric results when test-set sizes are unequal.\n",
      "  DeprecationWarning)\n"
     ]
    }
   ],
   "source": [
    "X = df17_by_dw[X_transpo_bus_col  + X_dw_col]\n",
    "y = df17_by_dw['r_weekly_rent_median']\n",
    "\n",
    "dtr_assess(X, y)"
   ]
  },
  {
   "cell_type": "markdown",
   "metadata": {},
   "source": [
    "### Train stations only"
   ]
  },
  {
   "cell_type": "code",
   "execution_count": 26,
   "metadata": {
    "scrolled": false
   },
   "outputs": [
    {
     "name": "stdout",
     "output_type": "stream",
     "text": [
      "shape of X:  (346, 4)\n",
      "shape of y:  (346,)\n",
      "shape of X_train:  (259, 4)\n",
      "shape of y_train:  (259,)\n",
      "shape of X_test:  (87, 4)\n",
      "shape of y_test:  (87,)\n",
      "best max depth para is:  {'max_depth': 8}\n",
      "R2 from CV:  0.5880482437240938\n",
      "rmse train data of max_depth = 8:  75.87639383071607\n",
      "r2 train data of max_depth = 8:  0.693529753465352\n",
      "rmse test data of max_depth = 8:  109.65020382199384\n",
      "r2 test data of max_depth = 8:  0.49725976601446475\n"
     ]
    },
    {
     "name": "stderr",
     "output_type": "stream",
     "text": [
      "/usr/local/lib/python3.7/site-packages/sklearn/model_selection/_search.py:814: DeprecationWarning: The default of the `iid` parameter will change from True to False in version 0.22 and will be removed in 0.24. This will change numeric results when test-set sizes are unequal.\n",
      "  DeprecationWarning)\n"
     ]
    }
   ],
   "source": [
    "X = df17_by_dw[X_transpo_train_col  + X_dw_col]\n",
    "y = df17_by_dw['r_weekly_rent_median']\n",
    "\n",
    "dtr_assess(X, y)"
   ]
  },
  {
   "cell_type": "markdown",
   "metadata": {},
   "source": [
    "**-> Results above also shows that inclunding train staions counts does not generate more accurate prediction**"
   ]
  },
  {
   "cell_type": "markdown",
   "metadata": {},
   "source": [
    "## Using nighttime lights variables"
   ]
  },
  {
   "cell_type": "code",
   "execution_count": 27,
   "metadata": {},
   "outputs": [
    {
     "name": "stdout",
     "output_type": "stream",
     "text": [
      "shape of X:  (346, 4)\n",
      "shape of y:  (346,)\n",
      "shape of X_train:  (259, 4)\n",
      "shape of y_train:  (259,)\n",
      "shape of X_test:  (87, 4)\n",
      "shape of y_test:  (87,)\n",
      "best max depth para is:  {'max_depth': 16}\n",
      "R2 from CV:  0.8645422596559246\n",
      "rmse train data of max_depth = 16:  0.0\n",
      "r2 train data of max_depth = 16:  1.0\n",
      "rmse test data of max_depth = 16:  22.883073601928224\n",
      "r2 test data of max_depth = 16:  0.9781045703701567\n"
     ]
    },
    {
     "name": "stderr",
     "output_type": "stream",
     "text": [
      "/usr/local/lib/python3.7/site-packages/sklearn/model_selection/_search.py:814: DeprecationWarning: The default of the `iid` parameter will change from True to False in version 0.22 and will be removed in 0.24. This will change numeric results when test-set sizes are unequal.\n",
      "  DeprecationWarning)\n"
     ]
    }
   ],
   "source": [
    "X = df17_by_dw[X_ntl_col + X_dw_col]\n",
    "y = df17_by_dw['r_weekly_rent_median']\n",
    "\n",
    "dtr_assess(X, y)"
   ]
  },
  {
   "cell_type": "markdown",
   "metadata": {},
   "source": [
    "## Using bus stops and nighttime lights variables"
   ]
  },
  {
   "cell_type": "code",
   "execution_count": 28,
   "metadata": {
    "scrolled": false
   },
   "outputs": [
    {
     "name": "stdout",
     "output_type": "stream",
     "text": [
      "shape of X:  (346, 6)\n",
      "shape of y:  (346,)\n",
      "shape of X_train:  (259, 6)\n",
      "shape of y_train:  (259,)\n",
      "shape of X_test:  (87, 6)\n",
      "shape of y_test:  (87,)\n",
      "best max depth para is:  {'max_depth': 11}\n",
      "R2 from CV:  0.9807880083472734\n",
      "rmse train data of max_depth = 11:  0.9423539080573116\n",
      "r2 train data of max_depth = 11:  0.999952728103559\n",
      "rmse test data of max_depth = 11:  17.583380999009318\n",
      "r2 test data of max_depth = 11:  0.9870720539982784\n"
     ]
    },
    {
     "name": "stderr",
     "output_type": "stream",
     "text": [
      "/usr/local/lib/python3.7/site-packages/sklearn/model_selection/_search.py:814: DeprecationWarning: The default of the `iid` parameter will change from True to False in version 0.22 and will be removed in 0.24. This will change numeric results when test-set sizes are unequal.\n",
      "  DeprecationWarning)\n"
     ]
    }
   ],
   "source": [
    "X = df17_by_dw[X_transpo_bus + X_ntl_col + X_dw_col]\n",
    "y = df17_by_dw['r_weekly_rent_median']\n",
    "\n",
    "dtr_assess(X, y)"
   ]
  },
  {
   "cell_type": "markdown",
   "metadata": {},
   "source": [
    "## Using all variables excluding train station counts"
   ]
  },
  {
   "cell_type": "code",
   "execution_count": 29,
   "metadata": {
    "scrolled": false
   },
   "outputs": [
    {
     "name": "stdout",
     "output_type": "stream",
     "text": [
      "shape of X:  (346, 29)\n",
      "shape of y:  (346,)\n",
      "shape of X_train:  (259, 29)\n",
      "shape of y_train:  (259,)\n",
      "shape of X_test:  (87, 29)\n",
      "shape of y_test:  (87,)\n",
      "best max depth para is:  {'max_depth': 12}\n",
      "R2 from CV:  0.9811975991534801\n",
      "rmse train data of max_depth = 12:  0.0\n",
      "r2 train data of max_depth = 12:  1.0\n",
      "rmse test data of max_depth = 12:  17.469184691710815\n",
      "r2 test data of max_depth = 12:  0.9872394313256175\n"
     ]
    },
    {
     "name": "stderr",
     "output_type": "stream",
     "text": [
      "/usr/local/lib/python3.7/site-packages/sklearn/model_selection/_search.py:814: DeprecationWarning: The default of the `iid` parameter will change from True to False in version 0.22 and will be removed in 0.24. This will change numeric results when test-set sizes are unequal.\n",
      "  DeprecationWarning)\n"
     ]
    }
   ],
   "source": [
    "X = df17_by_dw[X_all_excl_train_col + X_dw_col]\n",
    "y = df17_by_dw['r_weekly_rent_median']\n",
    "\n",
    "dtr_assess(X, y)"
   ]
  },
  {
   "cell_type": "markdown",
   "metadata": {},
   "source": [
    "----\n",
    "# Predict house rent median by bedroom"
   ]
  },
  {
   "cell_type": "code",
   "execution_count": 30,
   "metadata": {},
   "outputs": [],
   "source": [
    "df_br =  final17_c.melt(id_vars = ['LGA_CODE'], value_vars = ['r_one_br', 'r_two_br', 'r_three_br',\n",
    "                                                             'r_four_or_more_br', 'r_bedsitter'])\n",
    "df_br = df_br[df_br.value > 0]\n",
    "\n",
    "df17_by_br = final17_c.drop(columns = ['r_one_br', 'r_two_br', 'r_three_br',\n",
    "                                        'r_four_or_more_br', 'r_bedsitter'])\n",
    "df17_by_br = df17_by_br.merge(df_br, on = 'LGA_CODE', how = 'inner')\n",
    "df17_by_br = df17_by_br.rename(columns = {'variable' : 'bedroom', 'value' : 'weekly_rent_median'})\n",
    "\n",
    "dum_df17_by_br = pd.get_dummies(df17_by_br.bedroom).drop(columns = ['r_bedsitter'])\n",
    "df17_by_br = df17_by_br.merge(dum_df17_by_br, how = 'inner', left_index = True, right_index = True)\n",
    "\n",
    "X_br_col = ['r_one_br', 'r_two_br', 'r_three_br','r_four_or_more_br']\n"
   ]
  },
  {
   "cell_type": "code",
   "execution_count": 31,
   "metadata": {},
   "outputs": [
    {
     "name": "stdout",
     "output_type": "stream",
     "text": [
      "Shape of the df17_by_dw dataset:  (375, 125)\n",
      "The number of LGAs represented in the dataset is:  110\n"
     ]
    },
    {
     "data": {
      "text/html": [
       "<div>\n",
       "<style scoped>\n",
       "    .dataframe tbody tr th:only-of-type {\n",
       "        vertical-align: middle;\n",
       "    }\n",
       "\n",
       "    .dataframe tbody tr th {\n",
       "        vertical-align: top;\n",
       "    }\n",
       "\n",
       "    .dataframe thead th {\n",
       "        text-align: right;\n",
       "    }\n",
       "</style>\n",
       "<table border=\"1\" class=\"dataframe\">\n",
       "  <thead>\n",
       "    <tr style=\"text-align: right;\">\n",
       "      <th></th>\n",
       "      <th>LGA_CODE</th>\n",
       "      <th>LGA_NAME</th>\n",
       "      <th>s_mean_nonstrata</th>\n",
       "      <th>s_mean_strata</th>\n",
       "      <th>s_median_nonstrata</th>\n",
       "      <th>s_median_strata</th>\n",
       "      <th>s_mean_sales</th>\n",
       "      <th>s_median_sales</th>\n",
       "      <th>r_not_specified</th>\n",
       "      <th>r_flat</th>\n",
       "      <th>...</th>\n",
       "      <th>ntl17_mean_per_land_area</th>\n",
       "      <th>bstop_per_land_area</th>\n",
       "      <th>tstation_per_land_area</th>\n",
       "      <th>transpo_per_land_area</th>\n",
       "      <th>bedroom</th>\n",
       "      <th>weekly_rent_median</th>\n",
       "      <th>r_four_or_more_br</th>\n",
       "      <th>r_one_br</th>\n",
       "      <th>r_three_br</th>\n",
       "      <th>r_two_br</th>\n",
       "    </tr>\n",
       "  </thead>\n",
       "  <tbody>\n",
       "    <tr>\n",
       "      <th>0</th>\n",
       "      <td>LGA10050</td>\n",
       "      <td>Albury</td>\n",
       "      <td>350.72904</td>\n",
       "      <td>197.23513</td>\n",
       "      <td>320.0</td>\n",
       "      <td>206.0</td>\n",
       "      <td>320.42552</td>\n",
       "      <td>290.0</td>\n",
       "      <td>280.0</td>\n",
       "      <td>200.0</td>\n",
       "      <td>...</td>\n",
       "      <td>13.711019</td>\n",
       "      <td>0.294170</td>\n",
       "      <td>0.003269</td>\n",
       "      <td>0.297438</td>\n",
       "      <td>r_one_br</td>\n",
       "      <td>162.5</td>\n",
       "      <td>0</td>\n",
       "      <td>1</td>\n",
       "      <td>0</td>\n",
       "      <td>0</td>\n",
       "    </tr>\n",
       "    <tr>\n",
       "      <th>1</th>\n",
       "      <td>LGA10050</td>\n",
       "      <td>Albury</td>\n",
       "      <td>350.72904</td>\n",
       "      <td>197.23513</td>\n",
       "      <td>320.0</td>\n",
       "      <td>206.0</td>\n",
       "      <td>320.42552</td>\n",
       "      <td>290.0</td>\n",
       "      <td>280.0</td>\n",
       "      <td>200.0</td>\n",
       "      <td>...</td>\n",
       "      <td>13.711019</td>\n",
       "      <td>0.294170</td>\n",
       "      <td>0.003269</td>\n",
       "      <td>0.297438</td>\n",
       "      <td>r_two_br</td>\n",
       "      <td>220.0</td>\n",
       "      <td>0</td>\n",
       "      <td>0</td>\n",
       "      <td>0</td>\n",
       "      <td>1</td>\n",
       "    </tr>\n",
       "    <tr>\n",
       "      <th>2</th>\n",
       "      <td>LGA10050</td>\n",
       "      <td>Albury</td>\n",
       "      <td>350.72904</td>\n",
       "      <td>197.23513</td>\n",
       "      <td>320.0</td>\n",
       "      <td>206.0</td>\n",
       "      <td>320.42552</td>\n",
       "      <td>290.0</td>\n",
       "      <td>280.0</td>\n",
       "      <td>200.0</td>\n",
       "      <td>...</td>\n",
       "      <td>13.711019</td>\n",
       "      <td>0.294170</td>\n",
       "      <td>0.003269</td>\n",
       "      <td>0.297438</td>\n",
       "      <td>r_three_br</td>\n",
       "      <td>290.0</td>\n",
       "      <td>0</td>\n",
       "      <td>0</td>\n",
       "      <td>1</td>\n",
       "      <td>0</td>\n",
       "    </tr>\n",
       "    <tr>\n",
       "      <th>3</th>\n",
       "      <td>LGA10050</td>\n",
       "      <td>Albury</td>\n",
       "      <td>350.72904</td>\n",
       "      <td>197.23513</td>\n",
       "      <td>320.0</td>\n",
       "      <td>206.0</td>\n",
       "      <td>320.42552</td>\n",
       "      <td>290.0</td>\n",
       "      <td>280.0</td>\n",
       "      <td>200.0</td>\n",
       "      <td>...</td>\n",
       "      <td>13.711019</td>\n",
       "      <td>0.294170</td>\n",
       "      <td>0.003269</td>\n",
       "      <td>0.297438</td>\n",
       "      <td>r_four_or_more_br</td>\n",
       "      <td>375.0</td>\n",
       "      <td>1</td>\n",
       "      <td>0</td>\n",
       "      <td>0</td>\n",
       "      <td>0</td>\n",
       "    </tr>\n",
       "    <tr>\n",
       "      <th>4</th>\n",
       "      <td>LGA10130</td>\n",
       "      <td>Armidale Regional</td>\n",
       "      <td>372.99474</td>\n",
       "      <td>0.00000</td>\n",
       "      <td>352.5</td>\n",
       "      <td>0.0</td>\n",
       "      <td>361.56796</td>\n",
       "      <td>345.0</td>\n",
       "      <td>250.0</td>\n",
       "      <td>230.0</td>\n",
       "      <td>...</td>\n",
       "      <td>1.139977</td>\n",
       "      <td>0.001972</td>\n",
       "      <td>0.000116</td>\n",
       "      <td>0.002436</td>\n",
       "      <td>r_one_br</td>\n",
       "      <td>170.0</td>\n",
       "      <td>0</td>\n",
       "      <td>1</td>\n",
       "      <td>0</td>\n",
       "      <td>0</td>\n",
       "    </tr>\n",
       "  </tbody>\n",
       "</table>\n",
       "<p>5 rows × 125 columns</p>\n",
       "</div>"
      ],
      "text/plain": [
       "   LGA_CODE           LGA_NAME  s_mean_nonstrata  s_mean_strata  \\\n",
       "0  LGA10050             Albury         350.72904      197.23513   \n",
       "1  LGA10050             Albury         350.72904      197.23513   \n",
       "2  LGA10050             Albury         350.72904      197.23513   \n",
       "3  LGA10050             Albury         350.72904      197.23513   \n",
       "4  LGA10130  Armidale Regional         372.99474        0.00000   \n",
       "\n",
       "   s_median_nonstrata  s_median_strata  s_mean_sales  s_median_sales  \\\n",
       "0               320.0            206.0     320.42552           290.0   \n",
       "1               320.0            206.0     320.42552           290.0   \n",
       "2               320.0            206.0     320.42552           290.0   \n",
       "3               320.0            206.0     320.42552           290.0   \n",
       "4               352.5              0.0     361.56796           345.0   \n",
       "\n",
       "   r_not_specified  r_flat  ...  ntl17_mean_per_land_area  \\\n",
       "0            280.0   200.0  ...                 13.711019   \n",
       "1            280.0   200.0  ...                 13.711019   \n",
       "2            280.0   200.0  ...                 13.711019   \n",
       "3            280.0   200.0  ...                 13.711019   \n",
       "4            250.0   230.0  ...                  1.139977   \n",
       "\n",
       "   bstop_per_land_area  tstation_per_land_area  transpo_per_land_area  \\\n",
       "0             0.294170                0.003269               0.297438   \n",
       "1             0.294170                0.003269               0.297438   \n",
       "2             0.294170                0.003269               0.297438   \n",
       "3             0.294170                0.003269               0.297438   \n",
       "4             0.001972                0.000116               0.002436   \n",
       "\n",
       "             bedroom  weekly_rent_median  r_four_or_more_br  r_one_br  \\\n",
       "0           r_one_br               162.5                  0         1   \n",
       "1           r_two_br               220.0                  0         0   \n",
       "2         r_three_br               290.0                  0         0   \n",
       "3  r_four_or_more_br               375.0                  1         0   \n",
       "4           r_one_br               170.0                  0         1   \n",
       "\n",
       "   r_three_br  r_two_br  \n",
       "0           0         0  \n",
       "1           0         1  \n",
       "2           1         0  \n",
       "3           0         0  \n",
       "4           0         0  \n",
       "\n",
       "[5 rows x 125 columns]"
      ]
     },
     "execution_count": 31,
     "metadata": {},
     "output_type": "execute_result"
    }
   ],
   "source": [
    "print('Shape of the df17_by_dw dataset: ', df17_by_br.shape)\n",
    "print('The number of LGAs represented in the dataset is: ', len(df17_by_br.LGA_CODE.unique()))\n",
    "\n",
    "df17_by_br.head()\n"
   ]
  },
  {
   "cell_type": "markdown",
   "metadata": {},
   "source": [
    "## Using all variables"
   ]
  },
  {
   "cell_type": "code",
   "execution_count": 32,
   "metadata": {},
   "outputs": [
    {
     "name": "stdout",
     "output_type": "stream",
     "text": [
      "shape of X:  (375, 30)\n",
      "shape of y:  (375,)\n",
      "shape of X_train:  (281, 30)\n",
      "shape of y_train:  (281,)\n",
      "shape of X_test:  (94, 30)\n",
      "shape of y_test:  (94,)\n",
      "best max depth para is:  {'max_depth': 10}\n",
      "R2 from CV:  0.980213074206678\n",
      "rmse train data of max_depth = 10:  0.0\n",
      "r2 train data of max_depth = 10:  1.0\n",
      "rmse test data of max_depth = 10:  26.067628902448046\n",
      "r2 test data of max_depth = 10:  0.9678407293703832\n"
     ]
    },
    {
     "name": "stderr",
     "output_type": "stream",
     "text": [
      "/usr/local/lib/python3.7/site-packages/sklearn/model_selection/_search.py:814: DeprecationWarning: The default of the `iid` parameter will change from True to False in version 0.22 and will be removed in 0.24. This will change numeric results when test-set sizes are unequal.\n",
      "  DeprecationWarning)\n"
     ]
    }
   ],
   "source": [
    "X = df17_by_br[X_all_col + X_br_col]\n",
    "y = df17_by_br['r_weekly_rent_median']\n",
    "\n",
    "dtr_assess(X, y)"
   ]
  },
  {
   "cell_type": "markdown",
   "metadata": {},
   "source": [
    "## Using census variables"
   ]
  },
  {
   "cell_type": "code",
   "execution_count": 33,
   "metadata": {
    "scrolled": true
   },
   "outputs": [
    {
     "name": "stdout",
     "output_type": "stream",
     "text": [
      "shape of X:  (375, 30)\n",
      "shape of y:  (375,)\n",
      "shape of X_train:  (281, 30)\n",
      "shape of y_train:  (281,)\n",
      "shape of X_test:  (94, 30)\n",
      "shape of y_test:  (94,)\n",
      "best max depth para is:  {'max_depth': 11}\n",
      "R2 from CV:  0.9775584563460243\n",
      "rmse train data of max_depth = 11:  0.2790107078392655\n",
      "r2 train data of max_depth = 11:  0.9999963297691916\n",
      "rmse test data of max_depth = 11:  24.507851949545703\n",
      "r2 test data of max_depth = 11:  0.9715741390608613\n"
     ]
    },
    {
     "name": "stderr",
     "output_type": "stream",
     "text": [
      "/usr/local/lib/python3.7/site-packages/sklearn/model_selection/_search.py:814: DeprecationWarning: The default of the `iid` parameter will change from True to False in version 0.22 and will be removed in 0.24. This will change numeric results when test-set sizes are unequal.\n",
      "  DeprecationWarning)\n"
     ]
    }
   ],
   "source": [
    "X = df17_by_br[X_census_col + X_br_col]\n",
    "y = df17_by_br['r_weekly_rent_median']\n",
    "\n",
    "dtr_assess(X, y)"
   ]
  },
  {
   "cell_type": "markdown",
   "metadata": {},
   "source": [
    "## Using transportation variables"
   ]
  },
  {
   "cell_type": "markdown",
   "metadata": {},
   "source": [
    "### All transportations"
   ]
  },
  {
   "cell_type": "code",
   "execution_count": 34,
   "metadata": {
    "scrolled": true
   },
   "outputs": [
    {
     "name": "stdout",
     "output_type": "stream",
     "text": [
      "shape of X:  (375, 5)\n",
      "shape of y:  (375,)\n",
      "shape of X_train:  (281, 5)\n",
      "shape of y_train:  (281,)\n",
      "shape of X_test:  (94, 5)\n",
      "shape of y_test:  (94,)\n",
      "best max depth para is:  {'max_depth': 11}\n",
      "R2 from CV:  0.9670337255757643\n",
      "rmse train data of max_depth = 11:  3.890233953090368\n",
      "r2 train data of max_depth = 11:  0.9992864850542684\n",
      "rmse test data of max_depth = 11:  9.467460939664543\n",
      "r2 test data of max_depth = 11:  0.9957580047791992\n"
     ]
    },
    {
     "name": "stderr",
     "output_type": "stream",
     "text": [
      "/usr/local/lib/python3.7/site-packages/sklearn/model_selection/_search.py:814: DeprecationWarning: The default of the `iid` parameter will change from True to False in version 0.22 and will be removed in 0.24. This will change numeric results when test-set sizes are unequal.\n",
      "  DeprecationWarning)\n"
     ]
    }
   ],
   "source": [
    "X = df17_by_br[X_transpo_all_col + X_br_col]\n",
    "y = df17_by_br['r_weekly_rent_median']\n",
    "\n",
    "dtr_assess(X, y)"
   ]
  },
  {
   "cell_type": "markdown",
   "metadata": {},
   "source": [
    "### Bus stops only"
   ]
  },
  {
   "cell_type": "code",
   "execution_count": 35,
   "metadata": {
    "scrolled": false
   },
   "outputs": [
    {
     "name": "stdout",
     "output_type": "stream",
     "text": [
      "shape of X:  (375, 5)\n",
      "shape of y:  (375,)\n",
      "shape of X_train:  (281, 5)\n",
      "shape of y_train:  (281,)\n",
      "shape of X_test:  (94, 5)\n",
      "shape of y_test:  (94,)\n",
      "best max depth para is:  {'max_depth': 11}\n",
      "R2 from CV:  0.9439695828963974\n",
      "rmse train data of max_depth = 11:  5.883044201324099\n",
      "r2 train data of max_depth = 11:  0.9983682415985144\n",
      "rmse test data of max_depth = 11:  10.58010500930774\n",
      "r2 test data of max_depth = 11:  0.9947023521366462\n"
     ]
    },
    {
     "name": "stderr",
     "output_type": "stream",
     "text": [
      "/usr/local/lib/python3.7/site-packages/sklearn/model_selection/_search.py:814: DeprecationWarning: The default of the `iid` parameter will change from True to False in version 0.22 and will be removed in 0.24. This will change numeric results when test-set sizes are unequal.\n",
      "  DeprecationWarning)\n"
     ]
    }
   ],
   "source": [
    "X = df17_by_br[X_transpo_bus_col  + X_br_col]\n",
    "y = df17_by_br['r_weekly_rent_median']\n",
    "\n",
    "dtr_assess(X, y)"
   ]
  },
  {
   "cell_type": "markdown",
   "metadata": {},
   "source": [
    "### Train stations only"
   ]
  },
  {
   "cell_type": "code",
   "execution_count": 36,
   "metadata": {
    "scrolled": false
   },
   "outputs": [
    {
     "name": "stdout",
     "output_type": "stream",
     "text": [
      "shape of X:  (375, 5)\n",
      "shape of y:  (375,)\n",
      "shape of X_train:  (281, 5)\n",
      "shape of y_train:  (281,)\n",
      "shape of X_test:  (94, 5)\n",
      "shape of y_test:  (94,)\n",
      "best max depth para is:  {'max_depth': 13}\n",
      "R2 from CV:  0.6267358661820231\n",
      "rmse train data of max_depth = 13:  75.28636600673447\n",
      "r2 train data of max_depth = 13:  0.7327705584747988\n",
      "rmse test data of max_depth = 13:  95.23583032424735\n",
      "r2 test data of max_depth = 13:  0.570756353070359\n"
     ]
    },
    {
     "name": "stderr",
     "output_type": "stream",
     "text": [
      "/usr/local/lib/python3.7/site-packages/sklearn/model_selection/_search.py:814: DeprecationWarning: The default of the `iid` parameter will change from True to False in version 0.22 and will be removed in 0.24. This will change numeric results when test-set sizes are unequal.\n",
      "  DeprecationWarning)\n"
     ]
    }
   ],
   "source": [
    "X = df17_by_br[X_transpo_train_col  + X_br_col]\n",
    "y = df17_by_br['r_weekly_rent_median']\n",
    "\n",
    "dtr_assess(X, y)"
   ]
  },
  {
   "cell_type": "markdown",
   "metadata": {},
   "source": [
    "**-> Results above also shows that inclunding train staions counts does not generate more accurate prediction**"
   ]
  },
  {
   "cell_type": "markdown",
   "metadata": {},
   "source": [
    "## Using nighttime lights variables"
   ]
  },
  {
   "cell_type": "code",
   "execution_count": 37,
   "metadata": {},
   "outputs": [
    {
     "name": "stdout",
     "output_type": "stream",
     "text": [
      "shape of X:  (375, 5)\n",
      "shape of y:  (375,)\n",
      "shape of X_train:  (281, 5)\n",
      "shape of y_train:  (281,)\n",
      "shape of X_test:  (94, 5)\n",
      "shape of y_test:  (94,)\n",
      "best max depth para is:  {'max_depth': 10}\n",
      "R2 from CV:  0.9559288579304089\n",
      "rmse train data of max_depth = 10:  5.996489680927974\n",
      "r2 train data of max_depth = 10:  0.998304702912305\n",
      "rmse test data of max_depth = 10:  14.532256043747653\n",
      "r2 test data of max_depth = 10:  0.9900053126541384\n"
     ]
    },
    {
     "name": "stderr",
     "output_type": "stream",
     "text": [
      "/usr/local/lib/python3.7/site-packages/sklearn/model_selection/_search.py:814: DeprecationWarning: The default of the `iid` parameter will change from True to False in version 0.22 and will be removed in 0.24. This will change numeric results when test-set sizes are unequal.\n",
      "  DeprecationWarning)\n"
     ]
    }
   ],
   "source": [
    "X = df17_by_br[X_ntl_col + X_br_col]\n",
    "y = df17_by_br['r_weekly_rent_median']\n",
    "\n",
    "dtr_assess(X, y)"
   ]
  },
  {
   "cell_type": "markdown",
   "metadata": {},
   "source": [
    "## Using bus stops and nighttime lights variables"
   ]
  },
  {
   "cell_type": "code",
   "execution_count": 38,
   "metadata": {
    "scrolled": false
   },
   "outputs": [
    {
     "name": "stdout",
     "output_type": "stream",
     "text": [
      "shape of X:  (375, 7)\n",
      "shape of y:  (375,)\n",
      "shape of X_train:  (281, 7)\n",
      "shape of y_train:  (281,)\n",
      "shape of X_test:  (94, 7)\n",
      "shape of y_test:  (94,)\n",
      "best max depth para is:  {'max_depth': 11}\n",
      "R2 from CV:  0.988645607534871\n",
      "rmse train data of max_depth = 11:  0.6466447758949041\n",
      "r2 train data of max_depth = 11:  0.999980285617372\n",
      "rmse test data of max_depth = 11:  17.670296027574853\n",
      "r2 test data of max_depth = 11:  0.9852228466126878\n"
     ]
    },
    {
     "name": "stderr",
     "output_type": "stream",
     "text": [
      "/usr/local/lib/python3.7/site-packages/sklearn/model_selection/_search.py:814: DeprecationWarning: The default of the `iid` parameter will change from True to False in version 0.22 and will be removed in 0.24. This will change numeric results when test-set sizes are unequal.\n",
      "  DeprecationWarning)\n"
     ]
    }
   ],
   "source": [
    "X = df17_by_br[X_transpo_bus + X_ntl_col + X_br_col]\n",
    "y = df17_by_br['r_weekly_rent_median']\n",
    "\n",
    "dtr_assess(X, y)"
   ]
  },
  {
   "cell_type": "markdown",
   "metadata": {},
   "source": [
    "## Using all variables excluding train station counts"
   ]
  },
  {
   "cell_type": "code",
   "execution_count": 39,
   "metadata": {
    "scrolled": false
   },
   "outputs": [
    {
     "name": "stdout",
     "output_type": "stream",
     "text": [
      "shape of X:  (375, 30)\n",
      "shape of y:  (375,)\n",
      "shape of X_train:  (281, 30)\n",
      "shape of y_train:  (281,)\n",
      "shape of X_test:  (94, 30)\n",
      "shape of y_test:  (94,)\n",
      "best max depth para is:  {'max_depth': 9}\n",
      "R2 from CV:  0.9818587179181298\n",
      "rmse train data of max_depth = 9:  1.2716372970754894\n",
      "r2 train data of max_depth = 9:  0.9999237608318269\n",
      "rmse test data of max_depth = 9:  23.850066117884175\n",
      "r2 test data of max_depth = 9:  0.9730795506004615\n"
     ]
    },
    {
     "name": "stderr",
     "output_type": "stream",
     "text": [
      "/usr/local/lib/python3.7/site-packages/sklearn/model_selection/_search.py:814: DeprecationWarning: The default of the `iid` parameter will change from True to False in version 0.22 and will be removed in 0.24. This will change numeric results when test-set sizes are unequal.\n",
      "  DeprecationWarning)\n"
     ]
    }
   ],
   "source": [
    "X = df17_by_br[X_all_excl_train_col + X_br_col]\n",
    "y = df17_by_br['r_weekly_rent_median']\n",
    "\n",
    "dtr_assess(X, y)"
   ]
  },
  {
   "cell_type": "code",
   "execution_count": null,
   "metadata": {},
   "outputs": [],
   "source": []
  },
  {
   "cell_type": "code",
   "execution_count": null,
   "metadata": {},
   "outputs": [],
   "source": []
  },
  {
   "cell_type": "code",
   "execution_count": null,
   "metadata": {},
   "outputs": [],
   "source": []
  },
  {
   "cell_type": "code",
   "execution_count": null,
   "metadata": {},
   "outputs": [],
   "source": []
  },
  {
   "cell_type": "code",
   "execution_count": null,
   "metadata": {},
   "outputs": [],
   "source": []
  },
  {
   "cell_type": "code",
   "execution_count": null,
   "metadata": {},
   "outputs": [],
   "source": []
  }
 ],
 "metadata": {
  "kernelspec": {
   "display_name": "Python 3",
   "language": "python",
   "name": "python3"
  },
  "language_info": {
   "codemirror_mode": {
    "name": "ipython",
    "version": 3
   },
   "file_extension": ".py",
   "mimetype": "text/x-python",
   "name": "python",
   "nbconvert_exporter": "python",
   "pygments_lexer": "ipython3",
   "version": "3.7.3"
  }
 },
 "nbformat": 4,
 "nbformat_minor": 2
}
